{
  "cells": [
    {
      "cell_type": "markdown",
      "metadata": {
        "id": "view-in-github",
        "colab_type": "text"
      },
      "source": [
        "<a href=\"https://colab.research.google.com/github/MJanbandhu/Python-Numpy-Pandas-Manipulation/blob/master/Python_Practice_Question.ipynb\" target=\"_parent\"><img src=\"https://colab.research.google.com/assets/colab-badge.svg\" alt=\"Open In Colab\"/></a>"
      ]
    },
    {
      "cell_type": "markdown",
      "id": "ee16877c",
      "metadata": {
        "id": "ee16877c"
      },
      "source": [
        "1. Write a Python program to print the following string in a specific format (see the output).\n",
        "Sample String : \"Twinkle, twinkle, little star, How I wonder what you are! Up above the world so high, Like a diamond in the sky. Twinkle, twinkle, little star, How I wonder what you are\" Output :\n",
        "\n",
        "Twinkle, twinkle, little star,\n",
        "\tHow I wonder what you are!\n",
        "\t\tUp above the world so high,\n",
        "\t\tLike a diamond in the sky.\n",
        "Twinkle, twinkle, little star,\n",
        "\tHow I wonder what you are"
      ]
    },
    {
      "cell_type": "code",
      "execution_count": null,
      "id": "beee5321",
      "metadata": {
        "scrolled": true,
        "id": "beee5321"
      },
      "outputs": [],
      "source": [
        "print(\"Twinkle, twinkle, little star, \\n\\tHow I wonder what you are! \\n\\t\\tUp above the world so high, \\n\\t\\tLike a diamond in the sky. \\nTwinkle, twinkle, little star, \\n\\tHow I wonder what you are!\")\n"
      ]
    },
    {
      "cell_type": "markdown",
      "id": "4503ddd1",
      "metadata": {
        "id": "4503ddd1"
      },
      "source": [
        "2. Write a Python program to get the Python version you are using"
      ]
    },
    {
      "cell_type": "code",
      "execution_count": null,
      "id": "f1f07eef",
      "metadata": {
        "scrolled": true,
        "id": "f1f07eef"
      },
      "outputs": [],
      "source": [
        "import sys\n",
        "print(\"Python version\")\n",
        "print (sys.version)\n",
        "print(\"Version info.\")\n",
        "print (sys.version_info)"
      ]
    },
    {
      "cell_type": "markdown",
      "id": "1fcd00e8",
      "metadata": {
        "id": "1fcd00e8"
      },
      "source": [
        "3. Write a Python program to display the current date and time."
      ]
    },
    {
      "cell_type": "code",
      "execution_count": null,
      "id": "6a559392",
      "metadata": {
        "scrolled": true,
        "id": "6a559392"
      },
      "outputs": [],
      "source": [
        "import datetime\n",
        "now = datetime.datetime.now()\n",
        "print (\"Current date and time : \",now)"
      ]
    },
    {
      "cell_type": "markdown",
      "id": "013c969a",
      "metadata": {
        "id": "013c969a"
      },
      "source": [
        "4. Write a Python program which accepts the radius of a circle from the user and compute the area"
      ]
    },
    {
      "cell_type": "code",
      "execution_count": null,
      "id": "7ec346b7",
      "metadata": {
        "id": "7ec346b7"
      },
      "outputs": [],
      "source": [
        "import numpy as np\n",
        "def areaofcircle():\n",
        "    radius=float(input('Enter the radius of Circle:'))\n",
        "    area=np.pi *radius*radius\n",
        "    return area\n",
        ""
      ]
    },
    {
      "cell_type": "code",
      "execution_count": null,
      "id": "c176d625",
      "metadata": {
        "scrolled": true,
        "id": "c176d625"
      },
      "outputs": [],
      "source": [
        "areaofcircle()"
      ]
    },
    {
      "cell_type": "markdown",
      "id": "83236de7",
      "metadata": {
        "id": "83236de7"
      },
      "source": [
        "5. Write a Python program which accepts the user's first and last name and print them in reverse order with a space between them."
      ]
    },
    {
      "cell_type": "code",
      "execution_count": null,
      "id": "6a75763e",
      "metadata": {
        "id": "6a75763e"
      },
      "outputs": [],
      "source": [
        "def reversethestring():\n",
        "    first_name=input('Enter your first name')\n",
        "    last_name=input('Enter your last name')\n",
        "    return last_name[::-1],first_name[::-1]"
      ]
    },
    {
      "cell_type": "code",
      "execution_count": null,
      "id": "e64a224d",
      "metadata": {
        "scrolled": true,
        "id": "e64a224d"
      },
      "outputs": [],
      "source": [
        "reversethestring()"
      ]
    },
    {
      "cell_type": "code",
      "execution_count": null,
      "id": "65438925",
      "metadata": {
        "scrolled": true,
        "id": "65438925"
      },
      "outputs": [],
      "source": [
        "## Another way\n",
        "f_name = input(\"Input your First Name : \")\n",
        "l_name = input(\"Input your Last Name : \")\n",
        "print (\"Hello  \" + l_name + \" \" + f_name)"
      ]
    },
    {
      "cell_type": "markdown",
      "id": "9797d92e",
      "metadata": {
        "id": "9797d92e"
      },
      "source": [
        "6. Write a Python program which accepts a sequence of comma-separated numbers from user and generate a list  with those numbers"
      ]
    },
    {
      "cell_type": "code",
      "execution_count": null,
      "id": "41e8bc0a",
      "metadata": {
        "id": "41e8bc0a"
      },
      "outputs": [],
      "source": [
        "values = input(\"Input some comma seprated numbers : \")\n",
        "list1 = values.split(\",\")\n",
        "print(list1)\n",
        "\n"
      ]
    },
    {
      "cell_type": "markdown",
      "id": "1a81d4a3",
      "metadata": {
        "id": "1a81d4a3"
      },
      "source": [
        "7. Write a Python program to accept a filename from the user and print the extension of that"
      ]
    },
    {
      "cell_type": "code",
      "execution_count": null,
      "id": "2c9ceb75",
      "metadata": {
        "id": "2c9ceb75"
      },
      "outputs": [],
      "source": [
        "file_name=input('Enter the name of file')\n",
        "a=file_name.split('.')\n",
        "print(a[1])\n"
      ]
    },
    {
      "cell_type": "markdown",
      "id": "9a94ddfe",
      "metadata": {
        "id": "9a94ddfe"
      },
      "source": [
        "8. Write a Python program to display the first and last colors from the following list\n",
        "color_list = [\"yellow\",\"Green\",\"grey\" ,\"orange\"]"
      ]
    },
    {
      "cell_type": "code",
      "execution_count": null,
      "id": "dd389d3f",
      "metadata": {
        "scrolled": true,
        "id": "dd389d3f"
      },
      "outputs": [],
      "source": [
        "color_list = [\"yellow\",\"Green\",\"grey\" ,\"orange\"]\n",
        "print(color_list[0])\n",
        "print(color_list[-1])"
      ]
    },
    {
      "cell_type": "markdown",
      "id": "065f9a7d",
      "metadata": {
        "id": "065f9a7d"
      },
      "source": [
        "9. Write a Python program that accepts an integer (n) and computes the value of n+nn+nnn"
      ]
    },
    {
      "cell_type": "code",
      "execution_count": null,
      "id": "c2a0fc7f",
      "metadata": {
        "id": "c2a0fc7f",
        "outputId": "014d6775-25dd-42ea-c766-c9225f3b5236"
      },
      "outputs": [
        {
          "name": "stdout",
          "output_type": "stream",
          "text": [
            "Input an integer : 12\n",
            "122436\n"
          ]
        }
      ],
      "source": [
        "x = int(input(\"Input an integer : \"))\n",
        "n1 = int( \"%s\" % x )\n",
        "n2 = int( \"%s%s\" % (x,x) )\n",
        "n3 = int( \"%s%s%s\" % (x,x,x) )\n",
        "print (n1+n2+n3)"
      ]
    },
    {
      "cell_type": "markdown",
      "id": "d46166ba",
      "metadata": {
        "id": "d46166ba"
      },
      "source": [
        "10.Write a program to demonstrate different number data types in Python."
      ]
    },
    {
      "cell_type": "code",
      "execution_count": null,
      "id": "9bbf3b1f",
      "metadata": {
        "scrolled": true,
        "id": "9bbf3b1f",
        "outputId": "9fc71572-413e-4b88-c1eb-9a36098c2d70"
      },
      "outputs": [
        {
          "name": "stdout",
          "output_type": "stream",
          "text": [
            "The datatype of a is  <class 'bool'>\n",
            "The datatype of b is  <class 'int'>\n",
            "The datatype of c is  <class 'float'>\n",
            "The datatype of d is  <class 'str'>\n"
          ]
        }
      ],
      "source": [
        "a=True\n",
        "b=12\n",
        "c=34.56\n",
        "d='Data sciience'\n",
        "print('The datatype of a is ',type(a))\n",
        "print('The datatype of b is ',type(b))\n",
        "print('The datatype of c is ',type(c))\n",
        "print('The datatype of d is ',type(d))\n"
      ]
    },
    {
      "cell_type": "markdown",
      "id": "93f3b3f9",
      "metadata": {
        "id": "93f3b3f9"
      },
      "source": [
        "11. Python Program to find sum of array"
      ]
    },
    {
      "cell_type": "code",
      "execution_count": null,
      "id": "46d738eb",
      "metadata": {
        "id": "46d738eb"
      },
      "outputs": [],
      "source": [
        "def sumofarray(b):\n",
        "    add=0\n",
        "    for i in b:\n",
        "        add=add+i\n",
        "    return add"
      ]
    },
    {
      "cell_type": "code",
      "execution_count": null,
      "id": "7cbf9757",
      "metadata": {
        "id": "7cbf9757",
        "outputId": "f046e2c0-9a41-490f-e3c1-ad993d2002ff"
      },
      "outputs": [
        {
          "data": {
            "text/plain": [
              "6"
            ]
          },
          "execution_count": 18,
          "metadata": {},
          "output_type": "execute_result"
        }
      ],
      "source": [
        "sumofarray(np.array([1,2,3]))"
      ]
    },
    {
      "cell_type": "markdown",
      "id": "5f6ae7db",
      "metadata": {
        "id": "5f6ae7db"
      },
      "source": [
        "12.Write a program to create, concatenate and print a string and\n",
        " accessing sub-string from a given string"
      ]
    },
    {
      "cell_type": "code",
      "execution_count": null,
      "id": "bc9c925b",
      "metadata": {
        "scrolled": true,
        "id": "bc9c925b",
        "outputId": "cd1bb0bc-4f49-42c4-f471-51a0b2b92955"
      },
      "outputs": [
        {
          "name": "stdout",
          "output_type": "stream",
          "text": [
            "Enter the first stringshubhangi\n",
            "Enter the second stringsakarkar\n",
            "The first string entered is shubhangi\n",
            "The second string entered is  sakarkar\n",
            "concatenation of two entered string shubhangisakarkar\n",
            "Substring of s1 hu\n",
            "substring of s2 k\n"
          ]
        }
      ],
      "source": [
        "s1=input('Enter the first string')\n",
        "s2=input('Enter the second string')\n",
        "print('The first string entered is',s1)\n",
        "print('The second string entered is ',s2)\n",
        "print('concatenation of two entered string',s1+s2)\n",
        "print('Substring of s1',s1[1:3])\n",
        "print('substring of s2',s2[2:3])"
      ]
    },
    {
      "cell_type": "markdown",
      "id": "aaa0e325",
      "metadata": {
        "id": "aaa0e325"
      },
      "source": [
        "13.Create and explain the working of  tuple."
      ]
    },
    {
      "cell_type": "markdown",
      "id": "04688902",
      "metadata": {
        "id": "04688902"
      },
      "source": [
        "14.Write a python program to find largest of three numbers."
      ]
    },
    {
      "cell_type": "code",
      "execution_count": null,
      "id": "8b11ecf4",
      "metadata": {
        "collapsed": true,
        "id": "8b11ecf4",
        "outputId": "bcc5c679-b4a2-4033-8c52-8b45d2965473"
      },
      "outputs": [
        {
          "name": "stdout",
          "output_type": "stream",
          "text": [
            "Enter first number2\n",
            "Enter second number3\n",
            "Enter third number5\n",
            "The higest number is  5.0\n"
          ]
        }
      ],
      "source": [
        "num1=float(input('Enter first number'))\n",
        "num2=float(input('Enter second number'))\n",
        "num3=float(input('Enter third number'))\n",
        "\n",
        "if (num1>=num2) and (num1>=num3):\n",
        "    print('The highest number is',num1)\n",
        "elif (num2>=num1) and (num2>=num3):\n",
        "    print('The highest number is ',num2)\n",
        "else:\n",
        "    print('The higest number is ',num3)\n",
        ""
      ]
    },
    {
      "cell_type": "markdown",
      "id": "7ba0036e",
      "metadata": {
        "id": "7ba0036e"
      },
      "source": [
        "15.Write a Python program to convert temperatures to and from Celsius,\n",
        " Fahrenheit. [ Formula: c = (f-32)(5/9)]"
      ]
    },
    {
      "cell_type": "code",
      "execution_count": null,
      "id": "3d30fc52",
      "metadata": {
        "scrolled": true,
        "id": "3d30fc52",
        "outputId": "95851984-300f-48ec-c5de-7475a04f4128"
      },
      "outputs": [
        {
          "name": "stdout",
          "output_type": "stream",
          "text": [
            "Enter temprature38\n",
            "Enter unitc\n",
            "Temprature in ferenhite is 100.4\n"
          ]
        }
      ],
      "source": [
        "temp=float(input('Enter temprature'))\n",
        "unit=input('Enter unit')\n",
        "\n",
        "if unit=='C' or unit=='c':\n",
        "    newtemp=9/5*temp+32\n",
        "    print('Temprature in ferenhite is',newtemp)\n",
        "elif unit=='F' or unit=='f':\n",
        "    newtemp=5/9*(temp-32)\n",
        "    print('Temparture is celsius is',newtemp)\n",
        "else:\n",
        "    print('unknown unit passed')\n"
      ]
    },
    {
      "cell_type": "markdown",
      "id": "50956180",
      "metadata": {
        "id": "50956180"
      },
      "source": [
        "16. Write a Python program to construct the following pattern, using a\n",
        " nested for loop"
      ]
    },
    {
      "cell_type": "markdown",
      "id": "bde3ca51",
      "metadata": {
        "id": "bde3ca51"
      },
      "source": [
        "*\n",
        "* *\n",
        "* * *\n",
        "* * * *\n",
        "* * * * *\n",
        "* * * *\n",
        "* * *\n",
        "* *\n",
        "*"
      ]
    },
    {
      "cell_type": "code",
      "execution_count": null,
      "id": "46d239b9",
      "metadata": {
        "id": "46d239b9",
        "outputId": "c1372065-9515-420f-e8e5-cd7ca9677227"
      },
      "outputs": [
        {
          "name": "stdout",
          "output_type": "stream",
          "text": [
            "\n",
            "* \n",
            "* * \n",
            "* * * \n",
            "* * * * \n",
            "* * * * * \n",
            "* * * * * * \n",
            "* * * * * * * \n",
            "* * * * * * \n",
            "* * * * * \n",
            "* * * * \n",
            "* * * \n",
            "* * \n",
            "* \n"
          ]
        }
      ],
      "source": [
        "max = 6\n",
        "for i in range(0,max+1):\n",
        "    print(\"* \"*i)\n",
        "for i in range(max+1,0,-1):\n",
        "    print(\"* \"*i)"
      ]
    },
    {
      "cell_type": "markdown",
      "id": "5ec8bdf3",
      "metadata": {
        "id": "5ec8bdf3"
      },
      "source": [
        "17.Write a program that accepts the lengths of three sides of a triangle\n",
        "as inputs. The program output should indicate whether or not the triangle\n",
        "is a right triangle (Recall from the Pythagorean Theorem that in a right\n",
        "triangle, the square of one side equals the sum of the squares of the\n",
        "other two sides)."
      ]
    },
    {
      "cell_type": "code",
      "execution_count": null,
      "id": "d8fc89ec",
      "metadata": {
        "scrolled": true,
        "id": "d8fc89ec",
        "outputId": "ab65c26a-806c-421b-e484-188798ed40ea"
      },
      "outputs": [
        {
          "name": "stdout",
          "output_type": "stream",
          "text": [
            "Enter the base of triangle:3\n",
            "Enter the height of triangle:4\n",
            "Enter the hypo of triangle:5\n",
            "Entered dimensions of right angle triangle\n"
          ]
        }
      ],
      "source": [
        "base=float(input('Enter the base of triangle:'))\n",
        "height=float(input('Enter the height of triangle:'))\n",
        "hypo=float(input('Enter the hypo of triangle:'))\n",
        "if hypo**2==((base**2)+(height**2)):\n",
        "    print('Entered dimensions of right angle triangle')\n",
        "else:\n",
        "    print('The trianle is not right angled triganle')\n"
      ]
    },
    {
      "cell_type": "markdown",
      "id": "669a2189",
      "metadata": {
        "id": "669a2189"
      },
      "source": [
        "18. Given a range of the first 10 numbers, Iterate from the start number to the end number, and In each iteration print the sum of the current number and previous number"
      ]
    },
    {
      "cell_type": "code",
      "execution_count": null,
      "id": "33618b16",
      "metadata": {
        "id": "33618b16"
      },
      "outputs": [],
      "source": [
        "def sumofnum(num):\n",
        "    previousnum=0\n",
        "    for i in range(num):\n",
        "        sum=previousnum+i\n",
        "        print('The current number is:',i ,'Previous numbers:',previousnum,'Sum is:',sum)\n",
        "        previousnum=i"
      ]
    },
    {
      "cell_type": "code",
      "execution_count": null,
      "id": "fde4e846",
      "metadata": {
        "collapsed": true,
        "id": "fde4e846",
        "outputId": "e1e35404-8eaa-4e57-9a6c-d9e97fd4ff6d"
      },
      "outputs": [
        {
          "name": "stdout",
          "output_type": "stream",
          "text": [
            "The current number is: 0 Previous numbers: 0 Sum is: 0\n",
            "The current number is: 1 Previous numbers: 0 Sum is: 1\n",
            "The current number is: 2 Previous numbers: 1 Sum is: 3\n",
            "The current number is: 3 Previous numbers: 2 Sum is: 5\n",
            "The current number is: 4 Previous numbers: 3 Sum is: 7\n",
            "The current number is: 5 Previous numbers: 4 Sum is: 9\n",
            "The current number is: 6 Previous numbers: 5 Sum is: 11\n",
            "The current number is: 7 Previous numbers: 6 Sum is: 13\n",
            "The current number is: 8 Previous numbers: 7 Sum is: 15\n",
            "The current number is: 9 Previous numbers: 8 Sum is: 17\n",
            "The current number is: 10 Previous numbers: 9 Sum is: 19\n",
            "The current number is: 11 Previous numbers: 10 Sum is: 21\n",
            "The current number is: 12 Previous numbers: 11 Sum is: 23\n",
            "The current number is: 13 Previous numbers: 12 Sum is: 25\n",
            "The current number is: 14 Previous numbers: 13 Sum is: 27\n",
            "The current number is: 15 Previous numbers: 14 Sum is: 29\n",
            "The current number is: 16 Previous numbers: 15 Sum is: 31\n",
            "The current number is: 17 Previous numbers: 16 Sum is: 33\n",
            "The current number is: 18 Previous numbers: 17 Sum is: 35\n",
            "The current number is: 19 Previous numbers: 18 Sum is: 37\n"
          ]
        }
      ],
      "source": [
        "sumofnum(20)"
      ]
    },
    {
      "cell_type": "markdown",
      "id": "c6f22b10",
      "metadata": {
        "id": "c6f22b10"
      },
      "source": [
        "19.Given a string, display only those characters which are present at an even index number."
      ]
    },
    {
      "cell_type": "code",
      "execution_count": null,
      "id": "d600ae28",
      "metadata": {
        "scrolled": true,
        "id": "d600ae28",
        "outputId": "3702e15a-8541-4930-d1e4-5b53602ffa9a"
      },
      "outputs": [
        {
          "name": "stdout",
          "output_type": "stream",
          "text": [
            "Orginal String is  shubhangi\n",
            "Printing only even index chars\n",
            "index[ 0 ] s\n",
            "index[ 2 ] u\n",
            "index[ 4 ] h\n",
            "index[ 6 ] n\n"
          ]
        }
      ],
      "source": [
        "def printEveIndexChar(str):\n",
        "    for i in range(0, len(str)-1, 2):\n",
        "        print(\"index[\",i,\"]\", str[i] )\n",
        "\n",
        "inputStr = \"shubhangi\"\n",
        "print(\"Orginal String is \", inputStr)\n",
        "\n",
        "print(\"Printing only even index chars\")\n",
        "printEveIndexChar(inputStr)"
      ]
    },
    {
      "cell_type": "markdown",
      "id": "78774097",
      "metadata": {
        "id": "78774097"
      },
      "source": [
        "20.Return the count of sub-string “Shubhangi” appears in the given string"
      ]
    },
    {
      "cell_type": "code",
      "execution_count": null,
      "id": "c7e6c87e",
      "metadata": {
        "id": "c7e6c87e"
      },
      "outputs": [],
      "source": [
        "str = \"Shubhangi is good developer. Shubhangi is a Data Scientist\""
      ]
    },
    {
      "cell_type": "code",
      "execution_count": null,
      "id": "98225fb7",
      "metadata": {
        "id": "98225fb7",
        "outputId": "6a11e76b-4104-4bb2-f94d-f41af6b63100"
      },
      "outputs": [
        {
          "name": "stdout",
          "output_type": "stream",
          "text": [
            "2\n"
          ]
        }
      ],
      "source": [
        "cnt = str.count(\"Shubhangi\")\n",
        "print(cnt)"
      ]
    },
    {
      "cell_type": "markdown",
      "id": "b5932365",
      "metadata": {
        "id": "b5932365"
      },
      "source": [
        "21.Write a program (function!) that takes a list and returns a new list that contains all the elements of the first list minus all the duplicates."
      ]
    },
    {
      "cell_type": "code",
      "execution_count": null,
      "id": "53b95d6e",
      "metadata": {
        "id": "53b95d6e"
      },
      "outputs": [],
      "source": [
        "## Function to remove duplicates from given list\n",
        "def listduplicate(x):\n",
        "    y = []\n",
        "    for i in x:\n",
        "        if i not in y:\n",
        "            y.append(i)\n",
        "    return y\n",
        "\n"
      ]
    },
    {
      "cell_type": "code",
      "execution_count": null,
      "id": "c22da75c",
      "metadata": {
        "id": "c22da75c",
        "outputId": "f44743a4-fcc7-4de6-eac8-f3a97f25cd54"
      },
      "outputs": [
        {
          "data": {
            "text/plain": [
              "[1, 2, 3, 4]"
            ]
          },
          "execution_count": 4,
          "metadata": {},
          "output_type": "execute_result"
        }
      ],
      "source": [
        "listduplicate([1,1,2,3,4,4])"
      ]
    },
    {
      "cell_type": "code",
      "execution_count": null,
      "id": "bd4d0f76",
      "metadata": {
        "id": "bd4d0f76"
      },
      "outputs": [],
      "source": [
        "#this one uses sets\n",
        "def v2(x):\n",
        "    return list(set(x))\n",
        "\n"
      ]
    },
    {
      "cell_type": "code",
      "execution_count": null,
      "id": "2d32fb20",
      "metadata": {
        "scrolled": true,
        "id": "2d32fb20",
        "outputId": "a160aff3-4702-45f3-8463-f8480fba1600"
      },
      "outputs": [
        {
          "data": {
            "text/plain": [
              "[1, 2]"
            ]
          },
          "execution_count": 6,
          "metadata": {},
          "output_type": "execute_result"
        }
      ],
      "source": [
        "v2([1,1,2])"
      ]
    },
    {
      "cell_type": "markdown",
      "id": "ff7036db",
      "metadata": {
        "id": "ff7036db"
      },
      "source": [
        "22.Print multiplication table of 12 using recursion"
      ]
    },
    {
      "cell_type": "code",
      "execution_count": null,
      "id": "6bcbb2b4",
      "metadata": {
        "id": "6bcbb2b4"
      },
      "outputs": [],
      "source": [
        "def table(n,i):\n",
        "    print(n*i)\n",
        "    i=i+1\n",
        "    if i<=10:\n",
        "        table(n,i)\n",
        ""
      ]
    },
    {
      "cell_type": "code",
      "execution_count": null,
      "id": "6714ec54",
      "metadata": {
        "id": "6714ec54",
        "outputId": "be344984-41ae-48d2-8906-e4583c181985"
      },
      "outputs": [
        {
          "name": "stdout",
          "output_type": "stream",
          "text": [
            "20\n",
            "40\n",
            "60\n",
            "80\n",
            "100\n",
            "120\n",
            "140\n",
            "160\n",
            "180\n",
            "200\n"
          ]
        }
      ],
      "source": [
        "table(20,1)"
      ]
    },
    {
      "cell_type": "markdown",
      "id": "b60b7ab6",
      "metadata": {
        "id": "b60b7ab6"
      },
      "source": [
        "23. Write a function to calculate area and perimeter of a rectangle."
      ]
    },
    {
      "cell_type": "code",
      "execution_count": null,
      "id": "b135fa3a",
      "metadata": {
        "id": "b135fa3a"
      },
      "outputs": [],
      "source": [
        "def rectangle(a,b):\n",
        "    print('The area of given rectangle is:' ,a*b)\n",
        "    print('The perimeter of given rectangle is:',2*(a+b))"
      ]
    },
    {
      "cell_type": "code",
      "execution_count": null,
      "id": "f70af80f",
      "metadata": {
        "scrolled": true,
        "id": "f70af80f",
        "outputId": "659edf17-2032-4c99-de4c-05e07f957f50"
      },
      "outputs": [
        {
          "name": "stdout",
          "output_type": "stream",
          "text": [
            "The area of given rectangle is: 24\n",
            "The perimeter of given rectangle is: 28\n"
          ]
        }
      ],
      "source": [
        "rectangle(12,2)"
      ]
    },
    {
      "cell_type": "markdown",
      "id": "d6aae8e2",
      "metadata": {
        "id": "d6aae8e2"
      },
      "source": [
        "24.Write a function to calculate area and circumference of a circle"
      ]
    },
    {
      "cell_type": "code",
      "execution_count": null,
      "id": "0d8b0777",
      "metadata": {
        "id": "0d8b0777"
      },
      "outputs": [],
      "source": [
        "def circle():\n",
        "    import numpy as np\n",
        "    radius=float(input('Enter the radius of circle'))\n",
        "    area=np.pi*radius*radius\n",
        "    return area\n",
        ""
      ]
    },
    {
      "cell_type": "code",
      "execution_count": null,
      "id": "aae0e7a5",
      "metadata": {
        "collapsed": true,
        "id": "aae0e7a5",
        "outputId": "f9149522-9984-4d2b-a088-575dd3d042cc"
      },
      "outputs": [
        {
          "name": "stdout",
          "output_type": "stream",
          "text": [
            "Enter the radius of circle4\n"
          ]
        },
        {
          "data": {
            "text/plain": [
              "50.26548245743669"
            ]
          },
          "execution_count": 16,
          "metadata": {},
          "output_type": "execute_result"
        }
      ],
      "source": [
        "circle()"
      ]
    },
    {
      "cell_type": "markdown",
      "id": "5b5eeed9",
      "metadata": {
        "id": "5b5eeed9"
      },
      "source": [
        "25.Write a function to calculate power of a number raised to other"
      ]
    },
    {
      "cell_type": "code",
      "execution_count": null,
      "id": "408cf437",
      "metadata": {
        "id": "408cf437"
      },
      "outputs": [],
      "source": [
        "def powerof(n,p):\n",
        "    power=n**p\n",
        "    return power"
      ]
    },
    {
      "cell_type": "code",
      "execution_count": null,
      "id": "d686b969",
      "metadata": {
        "id": "d686b969",
        "outputId": "47bdd46c-c662-4758-faa9-846081e30d7a"
      },
      "outputs": [
        {
          "data": {
            "text/plain": [
              "8"
            ]
          },
          "execution_count": 18,
          "metadata": {},
          "output_type": "execute_result"
        }
      ],
      "source": [
        "powerof(2,3)"
      ]
    },
    {
      "cell_type": "markdown",
      "id": "daa9d8c8",
      "metadata": {
        "id": "daa9d8c8"
      },
      "source": [
        "26.Write a function to tell user if he/she is able to vote or not."
      ]
    },
    {
      "cell_type": "code",
      "execution_count": null,
      "id": "cdd10782",
      "metadata": {
        "scrolled": true,
        "id": "cdd10782",
        "outputId": "7a2054df-562b-469e-d0c7-48970c09f9a8"
      },
      "outputs": [
        {
          "name": "stdout",
          "output_type": "stream",
          "text": [
            "Enter your age21\n",
            "You are eligible to vote\n"
          ]
        }
      ],
      "source": [
        "age=float(input('Enter your age'))\n",
        "if age >=18:\n",
        "    print('You are eligible to vote')\n",
        "else:\n",
        "    print('Not eligible to vote')\n"
      ]
    },
    {
      "cell_type": "markdown",
      "id": "6700bf06",
      "metadata": {
        "id": "6700bf06"
      },
      "source": [
        "27.Write a function “perfect()” that determines if parameter number is a perfect number. Use this function in a program that determines and prints all the perfect numbers between 1 and 1000.\n",
        "[An integer number is said to be “perfect number” if its factors, including 1(but not the number itself), sum to the number. E.g., 6 is a perfect number because 6=1+2+3]."
      ]
    },
    {
      "cell_type": "markdown",
      "id": "3274aba6",
      "metadata": {
        "id": "3274aba6"
      },
      "source": [
        "####"
      ]
    },
    {
      "cell_type": "code",
      "execution_count": null,
      "id": "299985fc",
      "metadata": {
        "id": "299985fc",
        "outputId": "6f7d0ffb-8bf8-4a97-a4dd-70f28f7e508f"
      },
      "outputs": [
        {
          "data": {
            "text/plain": [
              "2"
            ]
          },
          "execution_count": 37,
          "metadata": {},
          "output_type": "execute_result"
        }
      ],
      "source": [
        "4 //2"
      ]
    },
    {
      "cell_type": "code",
      "execution_count": null,
      "id": "2a686b99",
      "metadata": {
        "id": "2a686b99"
      },
      "outputs": [],
      "source": [
        "\n",
        "def find_factors(num):\n",
        "    if num//2 > 2:\n",
        "        added = False\n",
        "        for i in range(2,num//2,1):\n",
        "            if num % i != 0:\n",
        "                continue\n",
        "            factors.append(i)\n",
        "            added = True\n",
        "            break\n",
        "        if(added):\n",
        "            find_factors(int(num//i))\n",
        "        else:\n",
        "            factors.append(num)\n",
        "    else:\n",
        "        factors.append(num)\n",
        ""
      ]
    },
    {
      "cell_type": "code",
      "execution_count": null,
      "id": "b4f9f91a",
      "metadata": {
        "id": "b4f9f91a"
      },
      "outputs": [],
      "source": [
        "def find_perfect(num):\n",
        "    factorials = []\n",
        "    for i in range(1,num//2+1):\n",
        "        if num%i == 0:\n",
        "            factorials.append(i)\n",
        "    if sum(factorials) == num:\n",
        "        return(True)\n",
        "    else:\n",
        "        return(False)"
      ]
    },
    {
      "cell_type": "code",
      "execution_count": null,
      "id": "a27170d7",
      "metadata": {
        "id": "a27170d7",
        "outputId": "b3dc4a66-d8cd-455f-b05c-6d72758a8665"
      },
      "outputs": [
        {
          "name": "stdout",
          "output_type": "stream",
          "text": [
            "6\n",
            "28\n",
            "496\n",
            "8128\n"
          ]
        }
      ],
      "source": [
        "for i in range(1,10000):\n",
        "    if find_perfect(i):\n",
        "        print(i)"
      ]
    },
    {
      "cell_type": "code",
      "execution_count": null,
      "id": "2a8ab830",
      "metadata": {
        "id": "2a8ab830",
        "outputId": "8c6b81f4-812e-4d44-8319-1d998722c40a"
      },
      "outputs": [
        {
          "name": "stdout",
          "output_type": "stream",
          "text": [
            "6\n"
          ]
        }
      ],
      "source": [
        "for i in range(1000):\n",
        "    factors = [1]\n",
        "    find_factors(i)\n",
        "    if sum(factors) == i:\n",
        "        print(i)\n",
        "\n",
        ""
      ]
    },
    {
      "cell_type": "code",
      "execution_count": null,
      "id": "502a3693",
      "metadata": {
        "id": "502a3693",
        "outputId": "5fd74221-800f-4dd5-8fa0-b7051c9c7c12"
      },
      "outputs": [
        {
          "data": {
            "text/plain": [
              "[1, 2, 4, 7, 14]"
            ]
          },
          "execution_count": 140,
          "metadata": {},
          "output_type": "execute_result"
        }
      ],
      "source": [
        "\n",
        "fi(28)\n"
      ]
    },
    {
      "cell_type": "code",
      "execution_count": null,
      "id": "61c2f30d",
      "metadata": {
        "id": "61c2f30d"
      },
      "outputs": [],
      "source": [
        "num = mainNum\n",
        "factors = []\n",
        "\n",
        "\n",
        ""
      ]
    },
    {
      "cell_type": "code",
      "execution_count": null,
      "id": "29d715d3",
      "metadata": {
        "id": "29d715d3"
      },
      "outputs": [],
      "source": [
        "def perfect(n):\n",
        "    sum=0\n",
        "    for i in range(n,1):\n",
        "        if n%i == 0:\n",
        "            sum=sum+i\n",
        "    if sum==n:\n",
        "        return True\n",
        "    else:\n",
        "        return False"
      ]
    },
    {
      "cell_type": "code",
      "execution_count": null,
      "id": "3b2cf129",
      "metadata": {
        "id": "3b2cf129"
      },
      "outputs": [],
      "source": [
        "for i in range(1,1001):\n",
        "    if perfect(i):\n",
        "        print(i)"
      ]
    },
    {
      "cell_type": "markdown",
      "id": "aa791f42",
      "metadata": {
        "id": "aa791f42"
      },
      "source": [
        "28.Write a function to check if a number is even or not."
      ]
    },
    {
      "cell_type": "code",
      "execution_count": null,
      "id": "7e879e2c",
      "metadata": {
        "id": "7e879e2c"
      },
      "outputs": [],
      "source": [
        "def even():\n",
        "    n=int(input('Enter the number'))\n",
        "    if n%2 == 0:\n",
        "        print('The given number is even')\n",
        "    else:\n",
        "        print('Odd number')"
      ]
    },
    {
      "cell_type": "code",
      "execution_count": null,
      "id": "cbea8379",
      "metadata": {
        "scrolled": true,
        "id": "cbea8379",
        "outputId": "e7cf7bb7-9e68-43e6-ea24-d978388e6f50"
      },
      "outputs": [
        {
          "name": "stdout",
          "output_type": "stream",
          "text": [
            "Enter the number3\n",
            "Odd number\n"
          ]
        }
      ],
      "source": [
        "even()"
      ]
    },
    {
      "cell_type": "markdown",
      "id": "c2ba6b6a",
      "metadata": {
        "id": "c2ba6b6a"
      },
      "source": [
        "29.Write a function to check if a number is prime or not"
      ]
    },
    {
      "cell_type": "code",
      "execution_count": null,
      "id": "994d415c",
      "metadata": {
        "id": "994d415c"
      },
      "outputs": [],
      "source": [
        "def odd():\n",
        "    n=int(input('Enter the number'))\n",
        "    if n%2 != 0:\n",
        "        print('The given number is odd')\n",
        "    else:\n",
        "        print('Even number')"
      ]
    },
    {
      "cell_type": "code",
      "execution_count": null,
      "id": "3a7b5bee",
      "metadata": {
        "id": "3a7b5bee",
        "outputId": "08ccb6b0-dd26-47aa-9867-06dbafeb0091"
      },
      "outputs": [
        {
          "name": "stdout",
          "output_type": "stream",
          "text": [
            "Enter the number3\n",
            "The given number is odd\n"
          ]
        }
      ],
      "source": [
        "odd()"
      ]
    },
    {
      "cell_type": "markdown",
      "id": "769d4dbe",
      "metadata": {
        "id": "769d4dbe"
      },
      "source": [
        "30.Given a list of numbers, return True if first and last number of a list is same"
      ]
    },
    {
      "cell_type": "code",
      "execution_count": null,
      "id": "f9375a2d",
      "metadata": {
        "id": "f9375a2d",
        "outputId": "fb2ad22f-fd1d-4e63-f299-1bafeedc3c3a"
      },
      "outputs": [
        {
          "name": "stdout",
          "output_type": "stream",
          "text": [
            "Given list is  [10, 20, 30, 40, 10]\n",
            "result is True\n"
          ]
        }
      ],
      "source": [
        "def isFirst_And_Last_Same(numberList):\n",
        "    print(\"Given list is \", numberList)\n",
        "    firstElement = numberList[0]\n",
        "    lastElement = numberList[-1]\n",
        "    if (firstElement == lastElement):\n",
        "        return True\n",
        "    else:\n",
        "        return False\n",
        "\n",
        "numList = [10, 20, 30, 40, 10]\n",
        "print(\"result is\", isFirst_And_Last_Same(numList))"
      ]
    },
    {
      "cell_type": "markdown",
      "id": "69e644f0",
      "metadata": {
        "id": "69e644f0"
      },
      "source": [
        "31. Write a program to check if each word in a string begins with a capital letter?\n"
      ]
    },
    {
      "cell_type": "code",
      "execution_count": null,
      "id": "00962ef7",
      "metadata": {
        "id": "00962ef7",
        "outputId": "fffcd613-3a7e-4414-ce37-d5666254ecda"
      },
      "outputs": [
        {
          "name": "stdout",
          "output_type": "stream",
          "text": [
            "True\n",
            "False\n",
            "False\n"
          ]
        }
      ],
      "source": [
        "print( 'The Hilton'.istitle() )\n",
        "print( 'The dog'.istitle() )\n",
        "print( 'sticky rice'.istitle() )"
      ]
    },
    {
      "cell_type": "markdown",
      "id": "e4e32aad",
      "metadata": {
        "id": "e4e32aad"
      },
      "source": [
        "32. Write a program to Check if a string contains a specific substring"
      ]
    },
    {
      "cell_type": "code",
      "execution_count": null,
      "id": "4158c02f",
      "metadata": {
        "id": "4158c02f",
        "outputId": "782867bb-04bd-4019-dbe3-5155728d1361"
      },
      "outputs": [
        {
          "name": "stdout",
          "output_type": "stream",
          "text": [
            "True\n",
            "False\n"
          ]
        }
      ],
      "source": [
        "print( 'plane' in 'The worlds fastest plane' ) #=> True\n",
        "print( 'car' in 'The worlds fastest plane' ) #=> False"
      ]
    },
    {
      "cell_type": "markdown",
      "id": "4945cf2d",
      "metadata": {
        "id": "4945cf2d"
      },
      "source": [
        "33. Capitalize the first character of a string"
      ]
    },
    {
      "cell_type": "code",
      "execution_count": null,
      "id": "c7fcb60e",
      "metadata": {
        "id": "c7fcb60e",
        "outputId": "cd571b36-50b9-4cb1-d6b7-3e251cd8d52f"
      },
      "outputs": [
        {
          "data": {
            "text/plain": [
              "'Florida dolphins'"
            ]
          },
          "execution_count": 3,
          "metadata": {},
          "output_type": "execute_result"
        }
      ],
      "source": [
        "'florida dolphins'.capitalize()"
      ]
    },
    {
      "cell_type": "markdown",
      "id": "483909e5",
      "metadata": {
        "id": "483909e5"
      },
      "source": [
        "34. Reverse the string “hello world”"
      ]
    },
    {
      "cell_type": "code",
      "execution_count": null,
      "id": "8a0828ee",
      "metadata": {
        "scrolled": true,
        "id": "8a0828ee",
        "outputId": "28e4446c-7492-484c-9b73-9347f8bf3dee"
      },
      "outputs": [
        {
          "data": {
            "text/plain": [
              "'dlrow olleh'"
            ]
          },
          "execution_count": 4,
          "metadata": {},
          "output_type": "execute_result"
        }
      ],
      "source": [
        "''.join(reversed(\"hello world\"))"
      ]
    },
    {
      "cell_type": "markdown",
      "id": "13a1242b",
      "metadata": {
        "id": "13a1242b"
      },
      "source": [
        "35. Remove vowels from a string"
      ]
    },
    {
      "cell_type": "code",
      "execution_count": null,
      "id": "096a384e",
      "metadata": {
        "id": "096a384e",
        "outputId": "ef27718c-4544-4962-a657-221a8e4a7450"
      },
      "outputs": [
        {
          "data": {
            "text/plain": [
              "'Hll 1 Wrld 2'"
            ]
          },
          "execution_count": 5,
          "metadata": {},
          "output_type": "execute_result"
        }
      ],
      "source": [
        "string = 'Hello 1 World 2'\n",
        "vowels = ('a','e','i','o','u')\n",
        "''.join([c for c in string if c not in vowels])\n"
      ]
    },
    {
      "cell_type": "markdown",
      "id": "76de8495",
      "metadata": {
        "id": "76de8495"
      },
      "source": [
        "36. Iterate through a string Using for Loop."
      ]
    },
    {
      "cell_type": "code",
      "execution_count": null,
      "id": "2e8fe647",
      "metadata": {
        "id": "2e8fe647",
        "outputId": "64e480df-cd70-41e3-e507-a6aefcd1d626"
      },
      "outputs": [
        {
          "name": "stdout",
          "output_type": "stream",
          "text": [
            "['s', 'h', 'u', 'b', 'h', 'a', 'n', 'g', 'i']\n"
          ]
        }
      ],
      "source": [
        "h_letters = []\n",
        "\n",
        "for letter in 'shubhangi':\n",
        "    h_letters.append(letter)\n",
        "\n",
        "print(h_letters)"
      ]
    },
    {
      "cell_type": "markdown",
      "id": "79e554dd",
      "metadata": {
        "id": "79e554dd"
      },
      "source": [
        "37. Iterate through a string Using List Comprehension"
      ]
    },
    {
      "cell_type": "code",
      "execution_count": null,
      "id": "41513cfc",
      "metadata": {
        "scrolled": true,
        "id": "41513cfc",
        "outputId": "f7c1a87d-e42a-47b9-9340-a07b91c0906e"
      },
      "outputs": [
        {
          "name": "stdout",
          "output_type": "stream",
          "text": [
            "['s', 'h', 'u', 'b', 'h', 'a', 'n', 'g', 'i']\n"
          ]
        }
      ],
      "source": [
        "h_letters = [ letter for letter in 'shubhangi' ]\n",
        "print( h_letters)"
      ]
    },
    {
      "cell_type": "markdown",
      "id": "27a39258",
      "metadata": {
        "id": "27a39258"
      },
      "source": [
        "38. Transpose of Matrix using Nested Loops"
      ]
    },
    {
      "cell_type": "code",
      "execution_count": null,
      "id": "97cbe30b",
      "metadata": {
        "id": "97cbe30b",
        "outputId": "bb8f9273-48a9-4099-cd25-0ec8fd3bdff6"
      },
      "outputs": [
        {
          "name": "stdout",
          "output_type": "stream",
          "text": [
            "[[1, 4], [2, 5], [3, 6], [4, 8]]\n"
          ]
        }
      ],
      "source": [
        "transposed = []\n",
        "matrix = [[1, 2, 3, 4], [4, 5, 6, 8]]\n",
        "\n",
        "for i in range(len(matrix[0])):\n",
        "    transposed_row = []\n",
        "\n",
        "    for row in matrix:\n",
        "        transposed_row.append(row[i])\n",
        "    transposed.append(transposed_row)\n",
        "\n",
        "print(transposed)"
      ]
    },
    {
      "cell_type": "markdown",
      "id": "2cb307e5",
      "metadata": {
        "id": "2cb307e5"
      },
      "source": [
        "39. Write a program to check whether a number is divisible by 7 or not."
      ]
    },
    {
      "cell_type": "code",
      "execution_count": null,
      "id": "c3416092",
      "metadata": {
        "id": "c3416092",
        "outputId": "2f736003-6b7e-49ec-de23-22ca960dc91d"
      },
      "outputs": [
        {
          "name": "stdout",
          "output_type": "stream",
          "text": [
            "Enter your age33\n",
            "Number is not divisible\n"
          ]
        }
      ],
      "source": [
        "num=int(input(\"Enter your age\"))\n",
        "if num%7==0:\n",
        "   print(\"Number is divisible\")\n",
        "else:\n",
        "   print(\"Number is not divisible\")"
      ]
    },
    {
      "cell_type": "markdown",
      "id": "78e82d60",
      "metadata": {
        "id": "78e82d60"
      },
      "source": [
        "40. Write a program to calculate the electricity bill (accept number of unit from user) according to the following criteria :\n",
        "             Unit                                                     Price  \n",
        "First 100 units                                               no charge\n",
        "Next 100 units                                              Rs 5 per unit\n",
        "After 200 units                                             Rs 10 per unit\n",
        "(For example if input unit is 350 than total bill amount is Rs2000)"
      ]
    },
    {
      "cell_type": "code",
      "execution_count": null,
      "id": "5b48be81",
      "metadata": {
        "id": "5b48be81",
        "outputId": "04245bd5-18a2-4cad-e0c8-d439a7a4464b"
      },
      "outputs": [
        {
          "name": "stdout",
          "output_type": "stream",
          "text": [
            "Enter number of electric unit344\n",
            "Amount to pay : 1940\n"
          ]
        }
      ],
      "source": [
        "amt=0\n",
        "nu=int(input(\"Enter number of electric unit\"))\n",
        "if nu<=100:\n",
        "     amt=0\n",
        "if nu>100 and nu<=200:\n",
        "     amt=(nu-100)*5\n",
        "if nu>200:\n",
        "     amt=500+(nu-200)*10\n",
        "print(\"Amount to pay :\",amt)"
      ]
    },
    {
      "cell_type": "markdown",
      "id": "12423f16",
      "metadata": {
        "id": "12423f16"
      },
      "source": [
        "41. Write a program to display the last digit of a number.\n",
        "(hint : any number % 10 will return the last digit)"
      ]
    },
    {
      "cell_type": "code",
      "execution_count": null,
      "id": "a727b9a1",
      "metadata": {
        "id": "a727b9a1",
        "outputId": "2d3ddfde-7c22-4a99-dfec-28f3213d45a4"
      },
      "outputs": [
        {
          "name": "stdout",
          "output_type": "stream",
          "text": [
            "Enter any number234\n",
            "Last digit of number is  4\n"
          ]
        }
      ],
      "source": [
        "num=int(input(\"Enter any number\"))\n",
        "print(\"Last digit of number is \",num%10)"
      ]
    },
    {
      "cell_type": "markdown",
      "id": "9536a531",
      "metadata": {
        "id": "9536a531"
      },
      "source": [
        "42. Write a program to check whether an years is leap year or not."
      ]
    },
    {
      "cell_type": "code",
      "execution_count": null,
      "id": "36d9a3a4",
      "metadata": {
        "id": "36d9a3a4",
        "outputId": "3a103e9e-0793-49f6-d2bb-a58d59d3e807"
      },
      "outputs": [
        {
          "name": "stdout",
          "output_type": "stream",
          "text": [
            "Enter the year2008\n",
            "Entered year is leap year\n"
          ]
        }
      ],
      "source": [
        "yr=int(input(\"Enter the year\"))\n",
        "if yr%100==0:\n",
        "    if yr%400==0:\n",
        "          print(\"Entered year is leap year\")\n",
        "    else:\n",
        "          print(\"Entered year is not a leap year\")\n",
        "else:\n",
        "    if yr%4==0:\n",
        "         print(\"Entered year is leap year\")\n",
        "    else:\n",
        "        print(\"Entered year is not a leap year\")"
      ]
    },
    {
      "cell_type": "markdown",
      "id": "e4947bb5",
      "metadata": {
        "id": "e4947bb5"
      },
      "source": [
        "43. Write a program to accept a number from 1 to 7 and display the name of the day like 1 for Sunday , 2 for Monday and so on."
      ]
    },
    {
      "cell_type": "code",
      "execution_count": null,
      "id": "9fe99bc5",
      "metadata": {
        "id": "9fe99bc5",
        "outputId": "2f6a6044-9943-4865-c08d-f847311ca208"
      },
      "outputs": [
        {
          "name": "stdout",
          "output_type": "stream",
          "text": [
            "Enter any number between 1 to 7 : 3\n",
            "Tuesday\n"
          ]
        }
      ],
      "source": [
        "num=int(input(\"Enter any number between 1 to 7 : \"))\n",
        "if num==1:\n",
        "    print(\"Sunday\")\n",
        "elif num==2:\n",
        "    print(\"Monday\")\n",
        "elif num==3:\n",
        "    print(\"Tuesday\")\n",
        "elif num==4:\n",
        "   print(\"Wednesday\")\n",
        "elif num==5:\n",
        "   print(\"Thursday\")\n",
        "elif num==6:\n",
        "   print(\"Friday\")\n",
        "elif num==2:\n",
        "   print(\"Saturday\")\n",
        "else:\n",
        "   print(\"Please enter number between 1 to 7\")"
      ]
    },
    {
      "cell_type": "markdown",
      "id": "bd7b9f98",
      "metadata": {
        "id": "bd7b9f98"
      },
      "source": [
        "44. Write a program to check whether a number entered is three digit number or not."
      ]
    },
    {
      "cell_type": "code",
      "execution_count": null,
      "id": "58fbcee3",
      "metadata": {
        "id": "58fbcee3",
        "outputId": "02830337-6d6a-49ec-d4c8-7de197034848"
      },
      "outputs": [
        {
          "name": "stdout",
          "output_type": "stream",
          "text": [
            "Enter any number3\n",
            "Entered number is not 3 digit\n"
          ]
        }
      ],
      "source": [
        "num1 = (input(\"Enter any number\"))\n",
        "l=len(num1)\n",
        "if l != 3:\n",
        "     print(\"Entered number is not 3 digit\")\n",
        "else:\n",
        "     print(\"Entered number is 3 digiy and Middle digit is \",(int(num1)%100//10))"
      ]
    },
    {
      "cell_type": "markdown",
      "id": "b5b995b9",
      "metadata": {
        "id": "b5b995b9"
      },
      "source": [
        "45. Write a program to check whether a number (accepted from user) is positive or negative.."
      ]
    },
    {
      "cell_type": "code",
      "execution_count": null,
      "id": "0bce38a3",
      "metadata": {
        "id": "0bce38a3",
        "outputId": "de975ce7-4729-4283-8d01-e16a5f475b1b"
      },
      "outputs": [
        {
          "name": "stdout",
          "output_type": "stream",
          "text": [
            "Enter first number345\n",
            "Number is positive\n"
          ]
        }
      ],
      "source": [
        "num1 = int(input(\"Enter first number\"))\n",
        "if num1 > 0 :\n",
        "    print(\"Number is positive\")\n",
        "else:\n",
        "    print(\"Number is negative\")"
      ]
    },
    {
      "cell_type": "markdown",
      "id": "82a2ee28",
      "metadata": {
        "id": "82a2ee28"
      },
      "source": [
        "46. Write a program to whether a number (accepted from user) is divisible by 2 and 3 both."
      ]
    },
    {
      "cell_type": "code",
      "execution_count": null,
      "id": "f2500a95",
      "metadata": {
        "scrolled": true,
        "id": "f2500a95",
        "outputId": "8a610f30-122d-43c0-a3b6-3ade6d529342"
      },
      "outputs": [
        {
          "name": "stdout",
          "output_type": "stream",
          "text": [
            "Enter first number45\n",
            "Number is not divisible by both 2 and 3\n"
          ]
        }
      ],
      "source": [
        "num1 = int(input(\"Enter first number\"))\n",
        "if num1%2==0 and num1%3==0:\n",
        "      print(\"Number is divisible by 2 and 3 both\")\n",
        "else:\n",
        "      print(\"Number is not divisible by both 2 and 3\")"
      ]
    },
    {
      "cell_type": "markdown",
      "id": "1205f36e",
      "metadata": {
        "id": "1205f36e"
      },
      "source": [
        "47. Write a Python program to check the validity of a password (input from users).\n",
        "\n",
        "Validation :\n",
        "\n",
        "At least 1 letter between [a-z] and 1 letter between [A-Z].\n",
        "At least 1 number between [0-9].\n",
        "At least 1 character from [$#@].\n",
        "Minimum length 6 characters.\n",
        "Maximum length 16 characters."
      ]
    },
    {
      "cell_type": "code",
      "execution_count": null,
      "id": "317bb1ed",
      "metadata": {
        "id": "317bb1ed"
      },
      "outputs": [],
      "source": [
        "import re\n",
        "p= input(\"Input your password\")\n",
        "x = True\n",
        "while x:\n",
        "    if (len(p)<6 or len(p)>12):\n",
        "        break\n",
        "    elif not re.search(\"[a-z]\",p):\n",
        "        break\n",
        "    elif not re.search(\"[0-9]\",p):\n",
        "        break\n",
        "    elif not re.search(\"[A-Z]\",p):\n",
        "        break\n",
        "    elif not re.search(\"[$#@]\",p):\n",
        "        break\n",
        "    elif re.search(\"\\s\",p):\n",
        "        break\n",
        "    else:\n",
        "        print(\"Valid Password\")\n",
        "        x=False\n",
        "        break\n",
        "\n",
        "if x:\n",
        "    print(\"Not a Valid Password\")\n"
      ]
    },
    {
      "cell_type": "markdown",
      "id": "5ef025dc",
      "metadata": {
        "id": "5ef025dc"
      },
      "source": [
        "48. Write a Python program to print alphabet pattern 'A'."
      ]
    },
    {
      "cell_type": "markdown",
      "id": "7c3a4306",
      "metadata": {
        "id": "7c3a4306"
      },
      "source": [
        "  ***                                                                   \n",
        " *   *                                                                  \n",
        " *   *                                                                  \n",
        " *****                                                                  \n",
        " *   *                                                                  \n",
        " *   *                                                                  \n",
        " *   *\n"
      ]
    },
    {
      "cell_type": "code",
      "execution_count": null,
      "id": "6058af9a",
      "metadata": {
        "scrolled": true,
        "id": "6058af9a",
        "outputId": "3b5fa058-fa55-48d5-ef90-41c34a5809b6"
      },
      "outputs": [
        {
          "name": "stdout",
          "output_type": "stream",
          "text": [
            "  ***  \n",
            " *   * \n",
            " *   * \n",
            " ***** \n",
            " *   * \n",
            " *   * \n",
            " *   * \n",
            "\n"
          ]
        }
      ],
      "source": [
        "result_str=\"\";\n",
        "for row in range(0,7):\n",
        "    for column in range(0,7):\n",
        "        if (((column == 1 or column == 5) and row != 0) or ((row == 0 or row == 3) and (column > 1 and column < 5))):\n",
        "            result_str=result_str+\"*\"\n",
        "        else:\n",
        "            result_str=result_str+\" \"\n",
        "    result_str=result_str+\"\\n\"\n",
        "print(result_str)"
      ]
    },
    {
      "cell_type": "markdown",
      "id": "f2c4a877",
      "metadata": {
        "id": "f2c4a877"
      },
      "source": [
        "49. Write a Python program to print alphabet pattern 'G'."
      ]
    },
    {
      "cell_type": "code",
      "execution_count": null,
      "id": "f0037066",
      "metadata": {
        "scrolled": true,
        "id": "f0037066",
        "outputId": "e6316ebc-4b5a-4a20-d513-eaa888b626a2"
      },
      "outputs": [
        {
          "name": "stdout",
          "output_type": "stream",
          "text": [
            "  ***  \n",
            " *   * \n",
            " *     \n",
            " * *** \n",
            " *   * \n",
            " *   * \n",
            "  ***  \n",
            "\n"
          ]
        }
      ],
      "source": [
        "result_str=\"\";\n",
        "for row in range(0,7):\n",
        "    for column in range(0,7):\n",
        "        if ((column == 1 and row != 0 and row != 6) or ((row == 0 or row == 6) and column > 1 and column < 5) or (row == 3 and column > 2 and column < 6) or (column == 5 and row != 0 and row != 2 and row != 6)):\n",
        "            result_str=result_str+\"*\"\n",
        "        else:\n",
        "            result_str=result_str+\" \"\n",
        "    result_str=result_str+\"\\n\"\n",
        "print(result_str);"
      ]
    },
    {
      "cell_type": "markdown",
      "id": "151b54d1",
      "metadata": {
        "id": "151b54d1"
      },
      "source": [
        "50. Write a Python program to calculate a dog's age in dog's years. Go to the editor\n",
        "Note: For the first two years, a dog year is equal to 10.5 human years. After that, each dog year equals 4 human years.\n",
        "Expected Output:\n",
        "\n",
        "Input a dog's age in human years: 15                                    \n",
        "The dog's age in dog's years is 73"
      ]
    },
    {
      "cell_type": "code",
      "execution_count": null,
      "id": "3779350f",
      "metadata": {
        "id": "3779350f",
        "outputId": "b74b8002-f205-404f-f9d8-66742957bd9f"
      },
      "outputs": [
        {
          "name": "stdout",
          "output_type": "stream",
          "text": [
            "Input a dog's age in human years: 34\n",
            "The dog's age in dog's years is 149\n"
          ]
        }
      ],
      "source": [
        "h_age = int(input(\"Input a dog's age in human years: \"))\n",
        "\n",
        "if h_age < 0:\n",
        "    print(\"Age must be positive number.\")\n",
        "    exit()\n",
        "elif h_age <= 2:\n",
        "    d_age = h_age * 10.5\n",
        "else:\n",
        "    d_age = 21 + (h_age - 2)*4\n",
        "\n",
        "print(\"The dog's age in dog's years is\", d_age)"
      ]
    }
  ],
  "metadata": {
    "kernelspec": {
      "display_name": "Python 3",
      "language": "python",
      "name": "python3"
    },
    "language_info": {
      "codemirror_mode": {
        "name": "ipython",
        "version": 3
      },
      "file_extension": ".py",
      "mimetype": "text/x-python",
      "name": "python",
      "nbconvert_exporter": "python",
      "pygments_lexer": "ipython3",
      "version": "3.8.8"
    },
    "colab": {
      "provenance": [],
      "include_colab_link": true
    }
  },
  "nbformat": 4,
  "nbformat_minor": 5
}