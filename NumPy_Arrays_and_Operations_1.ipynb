{
  "cells": [
    {
      "cell_type": "markdown",
      "metadata": {
        "id": "view-in-github",
        "colab_type": "text"
      },
      "source": [
        "<a href=\"https://colab.research.google.com/github/MJanbandhu/Python-Numpy-Pandas-Manipulation/blob/master/NumPy_Arrays_and_Operations_1.ipynb\" target=\"_parent\"><img src=\"https://colab.research.google.com/assets/colab-badge.svg\" alt=\"Open In Colab\"/></a>"
      ]
    },
    {
      "cell_type": "markdown",
      "metadata": {
        "id": "F9WV06phx9CZ"
      },
      "source": [
        "# NumPy\n",
        "NumPy is a Linear Algebra Library in Python and it is the holy grail and the main building block of Data Science using Python. Almost all the libraries in the PyData Ecosystem rely on NumPy as one of their main building blocks.\n",
        "\n",
        "It is bound to several C libraries which makes NumPy one of the fastest libraries in Python.\n",
        "\n",
        "We will learn the basics of NumPy, to get started we need to install it!"
      ]
    },
    {
      "cell_type": "markdown",
      "metadata": {
        "id": "b6964KHMx9Cc"
      },
      "source": [
        "## Installation Instructions\n",
        "\n",
        "**It is highly recommended you install Python using the Anaconda distribution to make sure all underlying dependencies (such as Linear Algebra libraries) all sync up with the use of a conda install. If you don't have Anaconda, install NumPy by going to your terminal or command prompt and type:**\n",
        "    \n",
        "    !pip install numpy\n",
        "    conda install numpy\n",
        "    \n"
      ]
    },
    {
      "cell_type": "raw",
      "metadata": {
        "id": "yp10Ttfzg7zH"
      },
      "source": [
        "!pip install numpy"
      ]
    },
    {
      "cell_type": "markdown",
      "metadata": {
        "id": "PWYZNm8Kx9Ce"
      },
      "source": [
        "## Using NumPy\n",
        "\n",
        "Once you've installed NumPy you can import it as a library:"
      ]
    },
    {
      "cell_type": "code",
      "execution_count": null,
      "metadata": {
        "id": "jgYIrfvWx9Cf"
      },
      "outputs": [],
      "source": [
        "import numpy as np"
      ]
    },
    {
      "cell_type": "markdown",
      "metadata": {
        "id": "_jtfQ1Rax9Cg"
      },
      "source": [
        "Numpy has many built-in functions and capabilities. We won't cover them all but instead we will focus on some of the most important aspects of Numpy: vectors,arrays,matrices, and number generation.\n",
        "\n",
        "# Numpy Arrays\n",
        "\n",
        "Numpy arrays essentially of two types: vectors and matrices. Vectors are strictly 1-D arrays and matrices are 2-D (Note: A matrix can still have only one row or one column).\n",
        "\n",
        "The following cells explain on creation of NumPy arrays.\n",
        "\n",
        "## Creating NumPy Arrays\n",
        "\n",
        "### From a Python List\n",
        "\n",
        "An array can be created by directly converting a list or list of lists:"
      ]
    },
    {
      "cell_type": "code",
      "execution_count": null,
      "metadata": {
        "id": "PUQR-HLAs4LZ"
      },
      "outputs": [],
      "source": [
        "import numpy as np"
      ]
    },
    {
      "cell_type": "code",
      "execution_count": null,
      "metadata": {
        "id": "E88aTuK9s4Lb",
        "outputId": "51d823e6-426c-4b3e-e559-74c67b929d94"
      },
      "outputs": [
        {
          "data": {
            "text/plain": [
              "array([], dtype=float64)"
            ]
          },
          "execution_count": 3,
          "metadata": {},
          "output_type": "execute_result"
        }
      ],
      "source": [
        "arr1 = np.array([])   # create an empty array\n",
        "arr1"
      ]
    },
    {
      "cell_type": "code",
      "execution_count": null,
      "metadata": {
        "colab": {
          "base_uri": "https://localhost:8080/"
        },
        "id": "Vvb1Lullx9Ch",
        "outputId": "bf52551f-1e16-4c92-f734-dfba4a9cda4e"
      },
      "outputs": [
        {
          "name": "stdout",
          "output_type": "stream",
          "text": [
            "[1, 2, 3, 4, 5]\n",
            "<class 'list'>\n"
          ]
        }
      ],
      "source": [
        "my_list = [1,2,3,4,5]\n",
        "print(my_list)\n",
        "print(type(my_list))"
      ]
    },
    {
      "cell_type": "code",
      "execution_count": null,
      "metadata": {
        "id": "2a75vTffs4Lh",
        "outputId": "2786f398-8a71-4a8f-9c20-bcb2801cb3f8"
      },
      "outputs": [
        {
          "name": "stdout",
          "output_type": "stream",
          "text": [
            "<class 'tuple'>\n"
          ]
        }
      ],
      "source": [
        "t=tuple(my_list)\n",
        "print(type(t))"
      ]
    },
    {
      "cell_type": "code",
      "execution_count": null,
      "metadata": {
        "id": "VE8-d5Rbs4Li",
        "outputId": "840b344d-ecd6-41c9-8333-137ba372c6b6"
      },
      "outputs": [
        {
          "data": {
            "text/plain": [
              "(1, 2, 3, 4, 5)"
            ]
          },
          "execution_count": 7,
          "metadata": {},
          "output_type": "execute_result"
        }
      ],
      "source": [
        "t"
      ]
    },
    {
      "cell_type": "code",
      "execution_count": null,
      "metadata": {
        "id": "FJ7VRQSsx9Cj"
      },
      "outputs": [],
      "source": [
        "a=np.array(my_list)"
      ]
    },
    {
      "cell_type": "code",
      "execution_count": null,
      "metadata": {
        "id": "FZKV4vtOg7zM",
        "outputId": "b7e78fc9-1c9e-4f48-add9-3da5a0e6e2c6"
      },
      "outputs": [
        {
          "data": {
            "text/plain": [
              "array([1, 2, 3, 4, 5])"
            ]
          },
          "execution_count": 9,
          "metadata": {},
          "output_type": "execute_result"
        }
      ],
      "source": [
        "a"
      ]
    },
    {
      "cell_type": "code",
      "execution_count": null,
      "metadata": {
        "id": "ypdP_PsIs4Lm",
        "outputId": "7bc0ac33-07b4-4d57-a06c-a8b6a5a01ac8"
      },
      "outputs": [
        {
          "data": {
            "text/plain": [
              "numpy.ndarray"
            ]
          },
          "execution_count": 10,
          "metadata": {},
          "output_type": "execute_result"
        }
      ],
      "source": [
        "type(a)   # ndarray is number dimension array"
      ]
    },
    {
      "cell_type": "code",
      "execution_count": null,
      "metadata": {
        "id": "a0CzUAiZs4Lm",
        "outputId": "e09bcbe5-4960-431f-a577-f95a63cc0570"
      },
      "outputs": [
        {
          "data": {
            "text/plain": [
              "1"
            ]
          },
          "execution_count": 11,
          "metadata": {},
          "output_type": "execute_result"
        }
      ],
      "source": [
        "a.ndim  # number of dimensions in the array"
      ]
    },
    {
      "cell_type": "code",
      "execution_count": null,
      "metadata": {
        "id": "p4a1x-e8s4Ln",
        "outputId": "e76ae4bc-b1b2-4a1c-dc88-6ca6a49229fa"
      },
      "outputs": [
        {
          "data": {
            "text/plain": [
              "5"
            ]
          },
          "execution_count": 12,
          "metadata": {},
          "output_type": "execute_result"
        }
      ],
      "source": [
        "a.size  # size of an array is the no. of items"
      ]
    },
    {
      "cell_type": "code",
      "execution_count": null,
      "metadata": {
        "id": "ww_5iGars4Lp"
      },
      "outputs": [],
      "source": [
        "a.shape # shape of array"
      ]
    },
    {
      "cell_type": "markdown",
      "metadata": {
        "id": "7-avUK9zs4Lr"
      },
      "source": [
        "#### Arrays can be of n dimensions."
      ]
    },
    {
      "cell_type": "code",
      "execution_count": null,
      "metadata": {
        "id": "2mkVSsT8x9Cn"
      },
      "outputs": [],
      "source": [
        "my_matrix = [[1,2,3,4],[5,6,7,8],[9,10,11,12]] # list of lists\n",
        "my_matrix"
      ]
    },
    {
      "cell_type": "code",
      "execution_count": null,
      "metadata": {
        "id": "BKYc1amPx9Cp"
      },
      "outputs": [],
      "source": [
        "b=np.array(my_matrix) # generates a 2-d array\n",
        "b"
      ]
    },
    {
      "cell_type": "code",
      "execution_count": null,
      "metadata": {
        "id": "yIlSprCJg7zO"
      },
      "outputs": [],
      "source": [
        "# Array summary\n",
        "print('The Dimension of array',b.ndim) # dimensions of given array"
      ]
    },
    {
      "cell_type": "code",
      "execution_count": null,
      "metadata": {
        "id": "WGip-VPGg7zO"
      },
      "outputs": [],
      "source": [
        "print('The size of array:',b.size) # Number of elements in array"
      ]
    },
    {
      "cell_type": "code",
      "execution_count": null,
      "metadata": {
        "id": "4h_1Gowlg7zO"
      },
      "outputs": [],
      "source": [
        "print('The datatype of element:',b.dtype) # Datatype of elements in array"
      ]
    },
    {
      "cell_type": "code",
      "execution_count": null,
      "metadata": {
        "id": "1T3XoUerg7zP",
        "scrolled": true
      },
      "outputs": [],
      "source": [
        "print('The type of structure:',type(b))"
      ]
    },
    {
      "cell_type": "code",
      "execution_count": null,
      "metadata": {
        "id": "FNeAjaTcg7zP",
        "scrolled": false
      },
      "outputs": [],
      "source": [
        "print('The shape:',b.shape)"
      ]
    },
    {
      "cell_type": "code",
      "execution_count": null,
      "metadata": {
        "id": "hO_aSfXPs4Ly"
      },
      "outputs": [],
      "source": [
        "b.shape"
      ]
    },
    {
      "cell_type": "code",
      "execution_count": null,
      "metadata": {
        "id": "k1Th0OdQs4Lz"
      },
      "outputs": [],
      "source": []
    },
    {
      "cell_type": "code",
      "execution_count": null,
      "metadata": {
        "id": "GtKT3xmrs4L0"
      },
      "outputs": [],
      "source": [
        "arr1= np.array([[[1,2,3],[4,5,6]], [[7,8,9],[10,11,12]]])\n",
        "arr1"
      ]
    },
    {
      "cell_type": "code",
      "execution_count": null,
      "metadata": {
        "id": "zfNDaL83s4L0"
      },
      "outputs": [],
      "source": [
        "arr1.shape"
      ]
    },
    {
      "cell_type": "markdown",
      "metadata": {
        "id": "CBWvGXItx9Cq"
      },
      "source": [
        "## Built-in Methods\n",
        "\n",
        "There are lots of built-in ways to generate Arrays"
      ]
    },
    {
      "cell_type": "markdown",
      "metadata": {
        "id": "-m0P7oPVs4L2"
      },
      "source": [
        "### Reshape function"
      ]
    },
    {
      "cell_type": "code",
      "execution_count": null,
      "metadata": {
        "id": "2ztZtN92s4L2"
      },
      "outputs": [],
      "source": [
        "arr1"
      ]
    },
    {
      "cell_type": "code",
      "execution_count": null,
      "metadata": {
        "id": "9wHfHvNMs4L3"
      },
      "outputs": [],
      "source": [
        "arr2=arr1.reshape((1,3,4))  # reshape function takes the new shape as its argument"
      ]
    },
    {
      "cell_type": "code",
      "execution_count": null,
      "metadata": {
        "id": "uwJdJ_Fgs4L4"
      },
      "outputs": [],
      "source": [
        "arr2"
      ]
    },
    {
      "cell_type": "code",
      "execution_count": null,
      "metadata": {
        "scrolled": true,
        "id": "3YLu9sDqs4L4"
      },
      "outputs": [],
      "source": [
        "arr2.shape"
      ]
    },
    {
      "cell_type": "markdown",
      "metadata": {
        "id": "5Cv-5217x9Cr"
      },
      "source": [
        "### arange\n",
        "\n",
        "Return evenly spaced values within a given interval."
      ]
    },
    {
      "cell_type": "code",
      "execution_count": null,
      "metadata": {
        "id": "RdQZ7p_ig7zQ"
      },
      "outputs": [],
      "source": [
        "np.arange(15) # end; default start at 0"
      ]
    },
    {
      "cell_type": "code",
      "execution_count": null,
      "metadata": {
        "id": "gFwZorTAs4L7"
      },
      "outputs": [],
      "source": [
        "np.arange(100,2,-4) # start, end and step"
      ]
    },
    {
      "cell_type": "code",
      "execution_count": null,
      "metadata": {
        "id": "mghsYj9Kx9Cu"
      },
      "outputs": [],
      "source": [
        "np.arange(0,11,2) # start end and step"
      ]
    },
    {
      "cell_type": "markdown",
      "metadata": {
        "id": "Eoo2efIBx9Cw"
      },
      "source": [
        "### zeros and ones\n",
        "\n",
        "Generate arrays of zeros or ones"
      ]
    },
    {
      "cell_type": "code",
      "execution_count": null,
      "metadata": {
        "id": "PmzlieRys4L-"
      },
      "outputs": [],
      "source": [
        "import numpy as np"
      ]
    },
    {
      "cell_type": "code",
      "execution_count": null,
      "metadata": {
        "id": "M-EcBWFHx9Cw"
      },
      "outputs": [],
      "source": [
        "np.zeros(3) # Generates array in 1 dimension with all elements 0"
      ]
    },
    {
      "cell_type": "code",
      "execution_count": null,
      "metadata": {
        "id": "xlxP67Tpx9Cz"
      },
      "outputs": [],
      "source": [
        "np.zeros((5,5))  # Generates array in 2 diemnsions with all elements 0"
      ]
    },
    {
      "cell_type": "code",
      "execution_count": null,
      "metadata": {
        "id": "MtPqppv-x9C2"
      },
      "outputs": [],
      "source": [
        "np.ones(3) # Generates array of 1 dimension where all elements are 1"
      ]
    },
    {
      "cell_type": "code",
      "execution_count": null,
      "metadata": {
        "id": "uobcKhowg7zS"
      },
      "outputs": [],
      "source": [
        "np.ones((4,5)) # Generates array of 3 dimensions where all elements are 1"
      ]
    },
    {
      "cell_type": "markdown",
      "metadata": {
        "id": "6xCoih_Nx9C5"
      },
      "source": [
        "### linspace\n",
        "Return evenly spaced numbers over a specified interval."
      ]
    },
    {
      "cell_type": "code",
      "execution_count": null,
      "metadata": {
        "id": "hKk_MYMps4ME"
      },
      "outputs": [],
      "source": [
        "import numpy as np"
      ]
    },
    {
      "cell_type": "code",
      "execution_count": null,
      "metadata": {
        "id": "lCxdYAFis4ME"
      },
      "outputs": [],
      "source": [
        "np.linspace(1,15)  # default 50 observations\n",
        "# both the start and end are included in the array"
      ]
    },
    {
      "cell_type": "code",
      "execution_count": null,
      "metadata": {
        "id": "2noVBGP4s4MF"
      },
      "outputs": [],
      "source": [
        "np.linspace(5,25,10)  # equally spaced 10 values"
      ]
    },
    {
      "cell_type": "code",
      "execution_count": null,
      "metadata": {
        "id": "inLiUqJ4s4MG"
      },
      "outputs": [],
      "source": [
        "# retstep ~ return step computed by linspace"
      ]
    },
    {
      "cell_type": "code",
      "execution_count": null,
      "metadata": {
        "id": "IgfnlXsTx9C6"
      },
      "outputs": [],
      "source": [
        "np.linspace(0,25, retstep=True) # Start # end (Here end is included) and default elements are 50"
      ]
    },
    {
      "cell_type": "code",
      "execution_count": null,
      "metadata": {
        "id": "1yc8ZkHfs4MI"
      },
      "outputs": [],
      "source": [
        "np.linspace(0,200,10) # default retstep=False"
      ]
    },
    {
      "cell_type": "code",
      "execution_count": null,
      "metadata": {
        "id": "aBGNVVgjs4MJ"
      },
      "outputs": [],
      "source": [
        "np.linspace(0,200,10,retstep=True)"
      ]
    },
    {
      "cell_type": "markdown",
      "metadata": {
        "id": "JdFde4Sjx9C8"
      },
      "source": [
        "### eye\n",
        "\n",
        "Creates an identity matrix"
      ]
    },
    {
      "cell_type": "code",
      "execution_count": null,
      "metadata": {
        "id": "038mjaC_x9C_"
      },
      "outputs": [],
      "source": [
        "np.eye(5)   # generates 2d array of (5,5)"
      ]
    },
    {
      "cell_type": "code",
      "execution_count": null,
      "metadata": {
        "id": "O1Mq2IfYs4MM"
      },
      "outputs": [],
      "source": [
        "# Create an eye from a zeros array"
      ]
    },
    {
      "cell_type": "markdown",
      "metadata": {
        "id": "hfeHU524s4MN"
      },
      "source": [
        "### Broadcasting in an array"
      ]
    },
    {
      "cell_type": "code",
      "execution_count": null,
      "metadata": {
        "id": "P3b5WuQPs4MO"
      },
      "outputs": [],
      "source": [
        "my_list = [1,2,3,4,5]\n",
        "arr=np.array(my_list)\n",
        "arr"
      ]
    },
    {
      "cell_type": "code",
      "execution_count": null,
      "metadata": {
        "scrolled": true,
        "id": "EAfPlAFgs4MQ"
      },
      "outputs": [],
      "source": [
        "print(my_list*3)"
      ]
    },
    {
      "cell_type": "code",
      "execution_count": null,
      "metadata": {
        "id": "lBI9gKAYs4MR"
      },
      "outputs": [],
      "source": [
        "print(arr*3)"
      ]
    },
    {
      "cell_type": "code",
      "execution_count": null,
      "metadata": {
        "id": "OVJq63FDs4MS"
      },
      "outputs": [],
      "source": [
        "big_one=np.ones((3,4))\n",
        "print(big_one)"
      ]
    },
    {
      "cell_type": "code",
      "execution_count": null,
      "metadata": {
        "id": "FEaCxbL3s4MT"
      },
      "outputs": [],
      "source": [
        "big_one.dtype"
      ]
    },
    {
      "cell_type": "code",
      "execution_count": null,
      "metadata": {
        "id": "e-wUNsRLs4MT"
      },
      "outputs": [],
      "source": [
        "big_one * 3"
      ]
    },
    {
      "cell_type": "markdown",
      "metadata": {
        "id": "lAwqmyUHs4MU"
      },
      "source": [
        "#### The ability to access each and every element of an array is known as Broadcasting."
      ]
    },
    {
      "cell_type": "code",
      "execution_count": null,
      "metadata": {
        "id": "dIj198Y1s4MU"
      },
      "outputs": [],
      "source": [
        "bigger_one=big_one*6 - 2\n",
        "bigger_one"
      ]
    },
    {
      "cell_type": "code",
      "execution_count": null,
      "metadata": {
        "id": "K4CqEO3Ts4MV"
      },
      "outputs": [],
      "source": [
        "bigger=np.array(big_one*3 - 0.4, dtype='int')\n",
        "print(bigger)"
      ]
    },
    {
      "cell_type": "code",
      "execution_count": null,
      "metadata": {
        "id": "3Z4EfSqSs4MW"
      },
      "outputs": [],
      "source": [
        "bigger.dtype"
      ]
    },
    {
      "cell_type": "code",
      "execution_count": null,
      "metadata": {
        "id": "eOc6Aoxus4MW"
      },
      "outputs": [],
      "source": [
        "type(bigger)"
      ]
    },
    {
      "cell_type": "code",
      "execution_count": null,
      "metadata": {
        "id": "L3HAaf5Os4MX"
      },
      "outputs": [],
      "source": [
        "bigger.shape"
      ]
    },
    {
      "cell_type": "code",
      "execution_count": null,
      "metadata": {
        "id": "xUU686h2s4MY"
      },
      "outputs": [],
      "source": [
        "bigger/bigger"
      ]
    },
    {
      "cell_type": "code",
      "execution_count": null,
      "metadata": {
        "id": "nN5Th59ls4MZ"
      },
      "outputs": [],
      "source": [
        "arr1 = np.arange(20)\n",
        "1/arr1"
      ]
    },
    {
      "cell_type": "code",
      "execution_count": null,
      "metadata": {
        "id": "CcUG4cAis4MZ"
      },
      "outputs": [],
      "source": [
        "arr"
      ]
    },
    {
      "cell_type": "code",
      "execution_count": null,
      "metadata": {
        "id": "vdERGOwls4MZ"
      },
      "outputs": [],
      "source": [
        "arr + arr"
      ]
    },
    {
      "cell_type": "code",
      "execution_count": null,
      "metadata": {
        "id": "JegvunMus4Ma"
      },
      "outputs": [],
      "source": [
        "arr ** arr"
      ]
    },
    {
      "cell_type": "markdown",
      "metadata": {
        "id": "XRiO9dmQs4Ma"
      },
      "source": [
        "### Use of Copy function"
      ]
    },
    {
      "cell_type": "code",
      "execution_count": null,
      "metadata": {
        "id": "D2C2d7zJs4Mb"
      },
      "outputs": [],
      "source": [
        "arr1"
      ]
    },
    {
      "cell_type": "code",
      "execution_count": null,
      "metadata": {
        "id": "RPJeiC-Ss4Mc"
      },
      "outputs": [],
      "source": [
        "arr2 = arr1 # not recommended\n",
        "arr2"
      ]
    },
    {
      "cell_type": "code",
      "execution_count": null,
      "metadata": {
        "id": "1o-c1thYs4Md"
      },
      "outputs": [],
      "source": [
        "arr2[:10] = 30  # using indexing/slicing to modify arr2\n",
        "arr2"
      ]
    },
    {
      "cell_type": "code",
      "execution_count": null,
      "metadata": {
        "id": "jdIw9uocs4Me"
      },
      "outputs": [],
      "source": [
        "arr1"
      ]
    },
    {
      "cell_type": "code",
      "execution_count": null,
      "metadata": {
        "id": "jpbNqFF6s4Mf"
      },
      "outputs": [],
      "source": [
        "arr3 = arr1.copy() # generate a copy / creates a backup"
      ]
    },
    {
      "cell_type": "code",
      "execution_count": null,
      "metadata": {
        "scrolled": true,
        "id": "FBUGWd3ts4Mg"
      },
      "outputs": [],
      "source": [
        "arr3[15:] = 100\n",
        "arr3"
      ]
    },
    {
      "cell_type": "code",
      "execution_count": null,
      "metadata": {
        "id": "UJR0RVU9s4Mh"
      },
      "outputs": [],
      "source": [
        "arr1  # copy function retains the original. copy creates a backup array."
      ]
    },
    {
      "cell_type": "code",
      "execution_count": null,
      "metadata": {
        "id": "vOOrjEEPs4Mh"
      },
      "outputs": [],
      "source": []
    },
    {
      "cell_type": "code",
      "execution_count": null,
      "metadata": {
        "id": "TGPkBkths4Mh"
      },
      "outputs": [],
      "source": []
    },
    {
      "cell_type": "markdown",
      "metadata": {
        "id": "dWJq5smax9DF"
      },
      "source": [
        "## Random number generation\n",
        "\n",
        "Numpy also has lots of ways to create random number arrays:\n",
        "\n",
        "### rand\n",
        "Create an array of the given shape and populate it with\n",
        "random samples from a uniform distribution\n",
        "over ``[0, 1)``."
      ]
    },
    {
      "cell_type": "code",
      "execution_count": null,
      "metadata": {
        "id": "PB52lZVGs4Mi"
      },
      "outputs": [],
      "source": [
        "import numpy as np"
      ]
    },
    {
      "cell_type": "code",
      "execution_count": null,
      "metadata": {
        "id": "tqywuyl5s4Mj"
      },
      "outputs": [],
      "source": [
        "np.random.rand()"
      ]
    },
    {
      "cell_type": "code",
      "execution_count": null,
      "metadata": {
        "id": "fOvH5i4Vx9DG",
        "scrolled": true
      },
      "outputs": [],
      "source": [
        "np.random.rand(10) # rand gives values between 0 and 1"
      ]
    },
    {
      "cell_type": "code",
      "execution_count": null,
      "metadata": {
        "id": "TBH3WokOs4Ml"
      },
      "outputs": [],
      "source": [
        "np.random.rand(10).reshape((2,5))"
      ]
    },
    {
      "cell_type": "code",
      "execution_count": null,
      "metadata": {
        "id": "efcVMWykg7zT"
      },
      "outputs": [],
      "source": [
        "# Creating array from uniform distribution\n",
        "new_arr=np.random.rand(5,3)\n",
        "# 2 dimensional array of shape (5,3)"
      ]
    },
    {
      "cell_type": "code",
      "execution_count": null,
      "metadata": {
        "id": "KddPOi-5s4Mm"
      },
      "outputs": [],
      "source": [
        "new_arr"
      ]
    },
    {
      "cell_type": "code",
      "execution_count": null,
      "metadata": {
        "id": "FE9XNpt5x9DH"
      },
      "outputs": [],
      "source": [
        "np.random.rand(3,3)"
      ]
    },
    {
      "cell_type": "markdown",
      "metadata": {
        "id": "LrrwZjCjx9DJ"
      },
      "source": [
        "### randn\n",
        "\n",
        "Return a sample (or samples) from the \"standard normal\" distribution. Unlike rand which is uniform:"
      ]
    },
    {
      "cell_type": "code",
      "execution_count": null,
      "metadata": {
        "id": "T8sAsFxws4Mo"
      },
      "outputs": [],
      "source": [
        "# For randn, random numbbers generated will be in approximately -3 to +3 range."
      ]
    },
    {
      "cell_type": "code",
      "execution_count": null,
      "metadata": {
        "id": "i2F_3QHqx9DJ"
      },
      "outputs": [],
      "source": [
        "arr1=np.random.randn(50)  # 50 observations from std normal distribution\n",
        "arr1"
      ]
    },
    {
      "cell_type": "code",
      "execution_count": null,
      "metadata": {
        "id": "EswgZgebs4Mp"
      },
      "outputs": [],
      "source": [
        "max(arr1)"
      ]
    },
    {
      "cell_type": "code",
      "execution_count": null,
      "metadata": {
        "id": "RhF0ZzkPs4Mq"
      },
      "outputs": [],
      "source": [
        "min(arr1)"
      ]
    },
    {
      "cell_type": "code",
      "execution_count": null,
      "metadata": {
        "id": "0FP8GKD4x9DK"
      },
      "outputs": [],
      "source": [
        "np.random.randn(3,3)"
      ]
    },
    {
      "cell_type": "markdown",
      "metadata": {
        "id": "glHOxsNXx9DL"
      },
      "source": [
        "### randint\n",
        "Return random integers from `low` (inclusive) to `high` (exclusive)."
      ]
    },
    {
      "cell_type": "code",
      "execution_count": null,
      "metadata": {
        "id": "HX_-jaJvx9DL"
      },
      "outputs": [],
      "source": [
        "np.random.randint(1000,9999)\n",
        "# third argument is no. of values. default =1 value"
      ]
    },
    {
      "cell_type": "code",
      "execution_count": null,
      "metadata": {
        "id": "bE3bAdd7x9DN"
      },
      "outputs": [],
      "source": [
        "np.random.randint(1,100,10)"
      ]
    },
    {
      "cell_type": "code",
      "execution_count": null,
      "metadata": {
        "id": "_NcYmL86s4My"
      },
      "outputs": [],
      "source": [
        "np.random.randint(40,60,50) # generating 50 values between"
      ]
    },
    {
      "cell_type": "markdown",
      "metadata": {
        "id": "y3OefZJ-x9DP"
      },
      "source": [
        "## Array Attributes and Methods\n",
        "\n",
        "Let's discuss some useful attributes and methods or an array:"
      ]
    },
    {
      "cell_type": "code",
      "execution_count": null,
      "metadata": {
        "id": "z_ovwSrpx9DQ"
      },
      "outputs": [],
      "source": [
        "arr = np.arange(20)\n",
        "ranarr = np.random.randint(0,100,10)"
      ]
    },
    {
      "cell_type": "code",
      "execution_count": null,
      "metadata": {
        "id": "0T57o_xFx9DQ"
      },
      "outputs": [],
      "source": [
        "arr"
      ]
    },
    {
      "cell_type": "code",
      "execution_count": null,
      "metadata": {
        "id": "WQoG3B-zx9DR",
        "scrolled": true
      },
      "outputs": [],
      "source": [
        "ranarr"
      ]
    },
    {
      "cell_type": "markdown",
      "metadata": {
        "id": "QDe4ZTxsx9DU"
      },
      "source": [
        "### max,min,argmax,argmin\n",
        "\n",
        "These are useful methods for finding max or min values. Or to find their index locations using argmin or argmax"
      ]
    },
    {
      "cell_type": "code",
      "execution_count": null,
      "metadata": {
        "id": "3AJ3w4Bpx9DV"
      },
      "outputs": [],
      "source": [
        "ranarr"
      ]
    },
    {
      "cell_type": "code",
      "execution_count": null,
      "metadata": {
        "id": "0hzt20BNx9DV"
      },
      "outputs": [],
      "source": [
        "ranarr.max() # highest element of the array"
      ]
    },
    {
      "cell_type": "code",
      "execution_count": null,
      "metadata": {
        "id": "CNiObOB5g7zV"
      },
      "outputs": [],
      "source": [
        "arr.max()"
      ]
    },
    {
      "cell_type": "code",
      "execution_count": null,
      "metadata": {
        "id": "QA9P3wXnx9DW"
      },
      "outputs": [],
      "source": [
        "ranarr.argmax() ## Index location of highest element"
      ]
    },
    {
      "cell_type": "code",
      "execution_count": null,
      "metadata": {
        "id": "GEG0nh6-x9DY"
      },
      "outputs": [],
      "source": [
        "ranarr.min() # Gives the lowest element of array"
      ]
    },
    {
      "cell_type": "code",
      "execution_count": null,
      "metadata": {
        "id": "vfSoH8WMx9DZ"
      },
      "outputs": [],
      "source": [
        "ranarr.argmin() # Index location of lowest element"
      ]
    },
    {
      "cell_type": "code",
      "execution_count": null,
      "metadata": {
        "id": "53YR-Xays4M6"
      },
      "outputs": [],
      "source": [
        "ran2=ranarr.reshape(2,5)"
      ]
    },
    {
      "cell_type": "code",
      "execution_count": null,
      "metadata": {
        "id": "k-Ti1_p8s4M6"
      },
      "outputs": [],
      "source": [
        "ran2"
      ]
    },
    {
      "cell_type": "code",
      "execution_count": null,
      "metadata": {
        "id": "oEEKXXOls4M8"
      },
      "outputs": [],
      "source": [
        "ran2.argmax()"
      ]
    },
    {
      "cell_type": "code",
      "execution_count": null,
      "metadata": {
        "id": "qqx884KPs4M8"
      },
      "outputs": [],
      "source": [
        "ran2.max()"
      ]
    },
    {
      "cell_type": "markdown",
      "metadata": {
        "id": "OLabPBY-x9Dg"
      },
      "source": [
        "# Happy Learning!"
      ]
    }
  ],
  "metadata": {
    "colab": {
      "collapsed_sections": [
        "6xCoih_Nx9C5",
        "QDe4ZTxsx9DU"
      ],
      "provenance": [],
      "include_colab_link": true
    },
    "kernelspec": {
      "display_name": "Python 3 (ipykernel)",
      "language": "python",
      "name": "python3"
    },
    "language_info": {
      "codemirror_mode": {
        "name": "ipython",
        "version": 3
      },
      "file_extension": ".py",
      "mimetype": "text/x-python",
      "name": "python",
      "nbconvert_exporter": "python",
      "pygments_lexer": "ipython3",
      "version": "3.11.5"
    }
  },
  "nbformat": 4,
  "nbformat_minor": 0
}