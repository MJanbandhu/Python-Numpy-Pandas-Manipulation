{
 "cells": [
  {
   "cell_type": "markdown",
   "id": "5a7567de-8c4e-4721-ba41-a86de7113dc3",
   "metadata": {},
   "source": [
    "#### Python\n",
    "\n",
    "- Python is a programming language created by Guido van Rossum in 1991\n",
    "- easy , versatile , simple , open source"
   ]
  },
  {
   "cell_type": "markdown",
   "id": "12461e42-76ba-4afe-9369-2a7ccad9af2c",
   "metadata": {},
   "source": [
    "#### Variable\n",
    "- storage containers , store the value in the memory\n",
    "- syntax : variable_name = value"
   ]
  },
  {
   "cell_type": "code",
   "execution_count": 3,
   "id": "793703db-d2ea-4254-810e-a94eb47bbfe1",
   "metadata": {},
   "outputs": [],
   "source": [
    "a = 3"
   ]
  },
  {
   "cell_type": "code",
   "execution_count": 7,
   "id": "6f2346d6-199d-47da-82b0-5bc2455f2828",
   "metadata": {},
   "outputs": [],
   "source": [
    "b = 2"
   ]
  },
  {
   "cell_type": "code",
   "execution_count": 19,
   "id": "ab831623-212b-4dd3-a5e7-5c216f33bce4",
   "metadata": {},
   "outputs": [
    {
     "name": "stdout",
     "output_type": "stream",
     "text": [
      "The value entered is  2\n"
     ]
    }
   ],
   "source": [
    "print('The value entered is ',b)"
   ]
  },
  {
   "cell_type": "code",
   "execution_count": 23,
   "id": "e6404b90-ae82-4db0-b008-eccf6edf4fef",
   "metadata": {},
   "outputs": [
    {
     "name": "stdout",
     "output_type": "stream",
     "text": [
      "The value enteres is 3 and 2\n"
     ]
    }
   ],
   "source": [
    "print('The value enteres is',a ,'and',b)"
   ]
  },
  {
   "cell_type": "code",
   "execution_count": 27,
   "id": "7295526d-5e30-4e41-846e-2fc1d52623da",
   "metadata": {},
   "outputs": [
    {
     "name": "stdout",
     "output_type": "stream",
     "text": [
      "The result is 30\n"
     ]
    }
   ],
   "source": [
    "a = 10\n",
    "b = 20\n",
    "c = a + b\n",
    "print('The result is',c)"
   ]
  },
  {
   "cell_type": "code",
   "execution_count": 29,
   "id": "be0250a3-4acf-46f7-a183-2ec95cdf72a7",
   "metadata": {},
   "outputs": [
    {
     "name": "stdout",
     "output_type": "stream",
     "text": [
      "The result is  -10\n"
     ]
    }
   ],
   "source": [
    "d = a - b\n",
    "print('The result is ', d)"
   ]
  },
  {
   "cell_type": "code",
   "execution_count": 35,
   "id": "44358e02-37aa-4003-8420-46d632755efe",
   "metadata": {},
   "outputs": [
    {
     "name": "stdout",
     "output_type": "stream",
     "text": [
      "-10\n",
      "200\n"
     ]
    }
   ],
   "source": [
    "d = a - b\n",
    "e = a * b\n",
    "print(d)\n",
    "print(e)"
   ]
  },
  {
   "cell_type": "markdown",
   "id": "32a74d60-b832-4e6c-8ca0-a95d65d6f116",
   "metadata": {},
   "source": [
    "##### Rules of naming a variable"
   ]
  },
  {
   "cell_type": "markdown",
   "id": "4d8f8055-ec8f-40bf-acba-08642a1a01d2",
   "metadata": {},
   "source": [
    "###### 1.Variables cannot start with a number"
   ]
  },
  {
   "cell_type": "code",
   "execution_count": 39,
   "id": "5e2b9c76-4cd2-4129-b0a5-245cb00d9392",
   "metadata": {},
   "outputs": [
    {
     "ename": "SyntaxError",
     "evalue": "cannot assign to literal here. Maybe you meant '==' instead of '='? (2881337615.py, line 1)",
     "output_type": "error",
     "traceback": [
      "\u001b[1;36m  Cell \u001b[1;32mIn[39], line 1\u001b[1;36m\u001b[0m\n\u001b[1;33m    1 = 10\u001b[0m\n\u001b[1;37m    ^\u001b[0m\n\u001b[1;31mSyntaxError\u001b[0m\u001b[1;31m:\u001b[0m cannot assign to literal here. Maybe you meant '==' instead of '='?\n"
     ]
    }
   ],
   "source": [
    "1 = 10"
   ]
  },
  {
   "cell_type": "code",
   "execution_count": 41,
   "id": "c36d0615-97f8-424f-b7a9-f6acfaae199d",
   "metadata": {},
   "outputs": [],
   "source": [
    "a1 = 10"
   ]
  },
  {
   "cell_type": "markdown",
   "id": "e5fa6b44-9a42-47ab-beff-1cd7a637447b",
   "metadata": {},
   "source": [
    "###### 2. Variables cannot have any special character other than '_'"
   ]
  },
  {
   "cell_type": "code",
   "execution_count": 45,
   "id": "821f9184-581e-4f41-84a3-e6b1888bfd95",
   "metadata": {},
   "outputs": [
    {
     "ename": "SyntaxError",
     "evalue": "invalid syntax (318979561.py, line 1)",
     "output_type": "error",
     "traceback": [
      "\u001b[1;36m  Cell \u001b[1;32mIn[45], line 1\u001b[1;36m\u001b[0m\n\u001b[1;33m    a$ = 10\u001b[0m\n\u001b[1;37m     ^\u001b[0m\n\u001b[1;31mSyntaxError\u001b[0m\u001b[1;31m:\u001b[0m invalid syntax\n"
     ]
    }
   ],
   "source": [
    "a$ = 10"
   ]
  },
  {
   "cell_type": "code",
   "execution_count": 47,
   "id": "4eb5bd13-e61d-4e36-a311-b0cb47da76d7",
   "metadata": {},
   "outputs": [],
   "source": [
    "_a = 10"
   ]
  },
  {
   "cell_type": "code",
   "execution_count": 49,
   "id": "2627245e-bacd-4490-982a-7d29bb431d47",
   "metadata": {},
   "outputs": [],
   "source": [
    "a_ = 10"
   ]
  },
  {
   "cell_type": "code",
   "execution_count": 51,
   "id": "3a92ce7e-2cb1-46d7-860d-d0bb599c8cb7",
   "metadata": {},
   "outputs": [],
   "source": [
    "a_a = 10"
   ]
  },
  {
   "cell_type": "markdown",
   "id": "58eee330-edee-438a-a70d-877d99548c84",
   "metadata": {},
   "source": [
    "###### 3. Variables cannot have space between them"
   ]
  },
  {
   "cell_type": "code",
   "execution_count": 54,
   "id": "f1edfc6b-cd08-4c9c-a867-e0fc9f605927",
   "metadata": {},
   "outputs": [
    {
     "ename": "SyntaxError",
     "evalue": "invalid syntax (1785724201.py, line 1)",
     "output_type": "error",
     "traceback": [
      "\u001b[1;36m  Cell \u001b[1;32mIn[54], line 1\u001b[1;36m\u001b[0m\n\u001b[1;33m    my name = 'Lakshmi'\u001b[0m\n\u001b[1;37m       ^\u001b[0m\n\u001b[1;31mSyntaxError\u001b[0m\u001b[1;31m:\u001b[0m invalid syntax\n"
     ]
    }
   ],
   "source": [
    "my name = 'Lakshmi'"
   ]
  },
  {
   "cell_type": "code",
   "execution_count": 56,
   "id": "e1f1150e-f0d3-4321-9f23-c06d51e2947c",
   "metadata": {},
   "outputs": [],
   "source": [
    "my_name = 'Lakshmi'"
   ]
  },
  {
   "cell_type": "markdown",
   "id": "c2eae599-9f3d-43d1-9e77-eece44d3b666",
   "metadata": {},
   "source": [
    "#### Keywords\n",
    "\n",
    "- reserved words ; pre defined meaning .\n",
    "- keywords cannot be taken as a identifier"
   ]
  },
  {
   "cell_type": "code",
   "execution_count": 62,
   "id": "422e1280-2985-41c2-bb7d-cebb562d555d",
   "metadata": {},
   "outputs": [
    {
     "name": "stdout",
     "output_type": "stream",
     "text": [
      "The keyword list is  ['False', 'None', 'True', 'and', 'as', 'assert', 'async', 'await', 'break', 'class', 'continue', 'def', 'del', 'elif', 'else', 'except', 'finally', 'for', 'from', 'global', 'if', 'import', 'in', 'is', 'lambda', 'nonlocal', 'not', 'or', 'pass', 'raise', 'return', 'try', 'while', 'with', 'yield']\n"
     ]
    }
   ],
   "source": [
    "import keyword\n",
    "print('The keyword list is ',keyword.kwlist) #kw keyword list"
   ]
  },
  {
   "cell_type": "markdown",
   "id": "61531243-e5e8-44b2-9c5c-c6fae136f036",
   "metadata": {},
   "source": [
    "##### Identifier\n",
    "\n",
    "- is the name given to the entities like functions, varibles, class etc"
   ]
  },
  {
   "cell_type": "markdown",
   "id": "25d03c29-3d86-4aee-bbf5-5f9071980768",
   "metadata": {},
   "source": [
    "#### Comments\n",
    "\n",
    "- can be used to explain the code for more readability"
   ]
  },
  {
   "cell_type": "code",
   "execution_count": 65,
   "id": "3526f6ab-0881-4145-a2f5-23141596ecc1",
   "metadata": {},
   "outputs": [],
   "source": [
    "b = 10 # The value 10 is assigned to the variable b\n",
    "\n",
    "# single single comment"
   ]
  },
  {
   "cell_type": "code",
   "execution_count": 67,
   "id": "4bcd8644-825d-4f1b-a93b-51ed45702ccf",
   "metadata": {},
   "outputs": [],
   "source": [
    "# MUlti line comment\n",
    "'''\n",
    "Multi \n",
    "line \n",
    "comment \n",
    "'''\n",
    "b = 10"
   ]
  },
  {
   "cell_type": "code",
   "execution_count": 69,
   "id": "05146cc5-614f-4b27-98ea-941b73fdafc5",
   "metadata": {},
   "outputs": [
    {
     "data": {
      "text/plain": [
       "10"
      ]
     },
     "execution_count": 69,
     "metadata": {},
     "output_type": "execute_result"
    }
   ],
   "source": [
    "a = b = c = 10 # multiple variable assignment \n",
    "a"
   ]
  },
  {
   "cell_type": "code",
   "execution_count": 71,
   "id": "8ba01f74-5b85-4742-9a9f-4fff3f099a43",
   "metadata": {},
   "outputs": [
    {
     "data": {
      "text/plain": [
       "10"
      ]
     },
     "execution_count": 71,
     "metadata": {},
     "output_type": "execute_result"
    }
   ],
   "source": [
    "b"
   ]
  },
  {
   "cell_type": "code",
   "execution_count": 73,
   "id": "b721038b-2de2-45d1-a8af-d376b633645d",
   "metadata": {},
   "outputs": [
    {
     "data": {
      "text/plain": [
       "10"
      ]
     },
     "execution_count": 73,
     "metadata": {},
     "output_type": "execute_result"
    }
   ],
   "source": [
    "c"
   ]
  },
  {
   "cell_type": "code",
   "execution_count": 79,
   "id": "ed727030-8935-4e3d-8471-a2777c5a39f6",
   "metadata": {},
   "outputs": [],
   "source": [
    "# x , y , and z -> 10, 20 30\n",
    "x , y , z = 10, 20 ,30\n",
    "x , y , z = 10,20,30"
   ]
  },
  {
   "cell_type": "code",
   "execution_count": 81,
   "id": "061507f3-34af-4139-8f89-1ad7df5a73ae",
   "metadata": {},
   "outputs": [
    {
     "data": {
      "text/plain": [
       "10"
      ]
     },
     "execution_count": 81,
     "metadata": {},
     "output_type": "execute_result"
    }
   ],
   "source": [
    "x"
   ]
  },
  {
   "cell_type": "code",
   "execution_count": 83,
   "id": "7144e3af-6209-4308-8177-05a262623133",
   "metadata": {},
   "outputs": [
    {
     "data": {
      "text/plain": [
       "20"
      ]
     },
     "execution_count": 83,
     "metadata": {},
     "output_type": "execute_result"
    }
   ],
   "source": [
    "y"
   ]
  },
  {
   "cell_type": "code",
   "execution_count": 85,
   "id": "c15fb3e6-7bf4-4191-8709-77649ea90d70",
   "metadata": {},
   "outputs": [
    {
     "data": {
      "text/plain": [
       "30"
      ]
     },
     "execution_count": 85,
     "metadata": {},
     "output_type": "execute_result"
    }
   ],
   "source": [
    "z"
   ]
  },
  {
   "attachments": {
    "50699206-a375-4a0a-b155-7ee972f83338.png": {
     "image/png": "[encoded data removed]"
    }
   },
   "cell_type": "markdown",
   "id": "63e2d089-78d2-41c0-8dcf-9dab9a7725d7",
   "metadata": {},
   "source": [
    "![image.png](attachment:50699206-a375-4a0a-b155-7ee972f83338.png)"
   ]
  },
  {
   "cell_type": "code",
   "execution_count": 89,
   "id": "378861cc-cf53-4be4-bd5f-5e9075768cb6",
   "metadata": {},
   "outputs": [
    {
     "data": {
      "text/plain": [
       "int"
      ]
     },
     "execution_count": 89,
     "metadata": {},
     "output_type": "execute_result"
    }
   ],
   "source": [
    "a = 10\n",
    "type(a)"
   ]
  },
  {
   "cell_type": "code",
   "execution_count": 91,
   "id": "f1953537-7555-41f3-bc70-dfb7d4fa06c3",
   "metadata": {},
   "outputs": [
    {
     "data": {
      "text/plain": [
       "float"
      ]
     },
     "execution_count": 91,
     "metadata": {},
     "output_type": "execute_result"
    }
   ],
   "source": [
    "b = 1.0\n",
    "type(b)"
   ]
  },
  {
   "cell_type": "code",
   "execution_count": 93,
   "id": "91f69632-076e-4c9b-99dd-bbfee5494da6",
   "metadata": {},
   "outputs": [
    {
     "data": {
      "text/plain": [
       "str"
      ]
     },
     "execution_count": 93,
     "metadata": {},
     "output_type": "execute_result"
    }
   ],
   "source": [
    "c = 'PYTHON'\n",
    "type(c)"
   ]
  },
  {
   "cell_type": "code",
   "execution_count": 95,
   "id": "97d49093-7aa6-4273-92cd-c62cd54c0470",
   "metadata": {},
   "outputs": [
    {
     "data": {
      "text/plain": [
       "bool"
      ]
     },
     "execution_count": 95,
     "metadata": {},
     "output_type": "execute_result"
    }
   ],
   "source": [
    "d = True\n",
    "type(d)"
   ]
  },
  {
   "cell_type": "code",
   "execution_count": 97,
   "id": "50f05663-b3aa-470d-aadc-f1d6142f8393",
   "metadata": {},
   "outputs": [
    {
     "data": {
      "text/plain": [
       "complex"
      ]
     },
     "execution_count": 97,
     "metadata": {},
     "output_type": "execute_result"
    }
   ],
   "source": [
    "e = 10 + 5j\n",
    "type(e)"
   ]
  },
  {
   "cell_type": "code",
   "execution_count": 99,
   "id": "2c3c00f3-38e3-4499-9f91-9016904572c7",
   "metadata": {},
   "outputs": [
    {
     "name": "stdout",
     "output_type": "stream",
     "text": [
      "Hello world\n"
     ]
    }
   ],
   "source": [
    "print('Hello world')"
   ]
  },
  {
   "cell_type": "code",
   "execution_count": 101,
   "id": "6c4f439a-6031-4f02-9a18-c4aadaf8cf21",
   "metadata": {},
   "outputs": [
    {
     "name": "stdout",
     "output_type": "stream",
     "text": [
      "The area is  78.5\n"
     ]
    }
   ],
   "source": [
    "# write a program to compute area of a circle \n",
    "r = 5\n",
    "pi = 3.14\n",
    "area = pi * r * r\n",
    "print('The area is ',area)"
   ]
  },
  {
   "cell_type": "code",
   "execution_count": 107,
   "id": "66ba8615-6846-44f3-9021-4e75742c4cb8",
   "metadata": {},
   "outputs": [
    {
     "name": "stdin",
     "output_type": "stream",
     "text": [
      "enter the number 5\n"
     ]
    },
    {
     "name": "stdout",
     "output_type": "stream",
     "text": [
      "The area is  78.5\n"
     ]
    }
   ],
   "source": [
    "# user defined values \n",
    "# var_name = datatype(input())\n",
    "r = float(input('enter the number'))\n",
    "pi = 3.14\n",
    "area = pi * r * r\n",
    "print('The area is ',area)"
   ]
  },
  {
   "cell_type": "code",
   "execution_count": 109,
   "id": "49532490-bfbd-465e-8c1f-4153a2df629d",
   "metadata": {},
   "outputs": [
    {
     "name": "stdin",
     "output_type": "stream",
     "text": [
      "enter the number 10\n",
      "enter the number 10\n"
     ]
    },
    {
     "name": "stdout",
     "output_type": "stream",
     "text": [
      "20\n"
     ]
    }
   ],
   "source": [
    "# have a interger values (user defined ) and perfrom addtion operation\n",
    "a=int(input('enter the number'))\n",
    "b=int(input('enter the number'))\n",
    "c=a+b\n",
    "print(c)\n"
   ]
  },
  {
   "cell_type": "markdown",
   "id": "3d8741ff-6aaa-453d-8270-6b6f2ea13b0b",
   "metadata": {},
   "source": [
    "#### Typecasting\n",
    "* Type Casting is the method to convert the variable data type into a certain data \n",
    "type in order to the operation required to be performed by users.\n",
    "\n",
    "* There are 2 ways in which typecasting is performed.\n",
    "\n",
    "1) Autotypecasting\n",
    "\n",
    "\n",
    "2) Forced Typecasting"
   ]
  },
  {
   "cell_type": "markdown",
   "id": "832182b0-363e-4bbb-a3e1-9a47c77d7560",
   "metadata": {},
   "source": [
    "##### Auto Typecasting\n",
    "-  The Python interpreter automatically converts one data type to another without any user involvement. "
   ]
  },
  {
   "cell_type": "code",
   "execution_count": 113,
   "id": "23195ae2-187e-434c-a363-2d97ee2861eb",
   "metadata": {},
   "outputs": [
    {
     "data": {
      "text/plain": [
       "10"
      ]
     },
     "execution_count": 113,
     "metadata": {},
     "output_type": "execute_result"
    }
   ],
   "source": [
    "4 + 5 + True  # 4 + 5 + 1"
   ]
  },
  {
   "cell_type": "code",
   "execution_count": 115,
   "id": "11e97cc7-af61-4c88-b0dc-7968064df593",
   "metadata": {},
   "outputs": [
    {
     "data": {
      "text/plain": [
       "10"
      ]
     },
     "execution_count": 115,
     "metadata": {},
     "output_type": "execute_result"
    }
   ],
   "source": [
    "4 + 5 + True + False  # 5 + 4 + 1 + 0"
   ]
  },
  {
   "cell_type": "code",
   "execution_count": 117,
   "id": "a5a06b3a-010c-4d19-88ce-ddd9341f61f0",
   "metadata": {},
   "outputs": [
    {
     "data": {
      "text/plain": [
       "11.0"
      ]
     },
     "execution_count": 117,
     "metadata": {},
     "output_type": "execute_result"
    }
   ],
   "source": [
    "4 + 5 + True + 1.0"
   ]
  },
  {
   "cell_type": "code",
   "execution_count": 119,
   "id": "b9ef7048-66d0-429d-a100-292a33afe3c8",
   "metadata": {},
   "outputs": [
    {
     "ename": "TypeError",
     "evalue": "unsupported operand type(s) for +: 'int' and 'str'",
     "output_type": "error",
     "traceback": [
      "\u001b[1;31m---------------------------------------------------------------------------\u001b[0m",
      "\u001b[1;31mTypeError\u001b[0m                                 Traceback (most recent call last)",
      "Cell \u001b[1;32mIn[119], line 1\u001b[0m\n\u001b[1;32m----> 1\u001b[0m \u001b[38;5;241m4\u001b[39m \u001b[38;5;241m+\u001b[39m \u001b[38;5;124m'\u001b[39m\u001b[38;5;124mPython\u001b[39m\u001b[38;5;124m'\u001b[39m\n",
      "\u001b[1;31mTypeError\u001b[0m: unsupported operand type(s) for +: 'int' and 'str'"
     ]
    }
   ],
   "source": [
    "4 + 'Python'"
   ]
  },
  {
   "cell_type": "code",
   "execution_count": 121,
   "id": "aa8697f4-dbdf-4150-959c-33c055f4dae9",
   "metadata": {},
   "outputs": [
    {
     "data": {
      "text/plain": [
       "'4Python'"
      ]
     },
     "execution_count": 121,
     "metadata": {},
     "output_type": "execute_result"
    }
   ],
   "source": [
    "'4' + 'Python'"
   ]
  },
  {
   "cell_type": "markdown",
   "id": "943f8a99-9b7c-48e8-94d5-3347cf9e30cf",
   "metadata": {},
   "source": [
    "##### Forced TypeCasting"
   ]
  },
  {
   "cell_type": "code",
   "execution_count": 3,
   "id": "d2c2f4cb-4568-49d7-975c-e8703b7c672e",
   "metadata": {},
   "outputs": [],
   "source": [
    "a = 10"
   ]
  },
  {
   "cell_type": "code",
   "execution_count": 5,
   "id": "6739e378-b691-4746-bda3-80ee291fdc6f",
   "metadata": {},
   "outputs": [
    {
     "data": {
      "text/plain": [
       "10.0"
      ]
     },
     "execution_count": 5,
     "metadata": {},
     "output_type": "execute_result"
    }
   ],
   "source": [
    "float(a)"
   ]
  },
  {
   "cell_type": "code",
   "execution_count": 7,
   "id": "7f11aa37-756d-4c36-9fbd-4d5b8366c866",
   "metadata": {},
   "outputs": [
    {
     "data": {
      "text/plain": [
       "True"
      ]
     },
     "execution_count": 7,
     "metadata": {},
     "output_type": "execute_result"
    }
   ],
   "source": [
    "bool(a)"
   ]
  },
  {
   "cell_type": "code",
   "execution_count": 9,
   "id": "89154206-0803-4cba-967b-ddc2e420d995",
   "metadata": {},
   "outputs": [
    {
     "data": {
      "text/plain": [
       "'10'"
      ]
     },
     "execution_count": 9,
     "metadata": {},
     "output_type": "execute_result"
    }
   ],
   "source": [
    "str(a)"
   ]
  },
  {
   "cell_type": "code",
   "execution_count": 11,
   "id": "63f5b50b-6a76-4b1f-b045-b69937a6f9b4",
   "metadata": {},
   "outputs": [
    {
     "data": {
      "text/plain": [
       "True"
      ]
     },
     "execution_count": 11,
     "metadata": {},
     "output_type": "execute_result"
    }
   ],
   "source": [
    "bool(0.1)"
   ]
  },
  {
   "cell_type": "markdown",
   "id": "01c2d232-ca4e-4222-8f7c-5b7ef9916e97",
   "metadata": {},
   "source": [
    "Task : float , str , bool try to do forced typecasting"
   ]
  },
  {
   "cell_type": "markdown",
   "id": "7a64166f-ae89-484e-8ce0-b9efc0aa4b3a",
   "metadata": {},
   "source": [
    "#### String and its functions"
   ]
  },
  {
   "cell_type": "code",
   "execution_count": 15,
   "id": "8c1d5399-4ad1-442e-8e78-1f2b87d4d3e7",
   "metadata": {},
   "outputs": [
    {
     "name": "stdout",
     "output_type": "stream",
     "text": [
      "Hello world\n"
     ]
    }
   ],
   "source": [
    "s1 = \"Hello world\"\n",
    "print(s1)"
   ]
  },
  {
   "cell_type": "code",
   "execution_count": 17,
   "id": "ec6c7dc4-a5f0-4b13-8101-a87396aad32e",
   "metadata": {},
   "outputs": [
    {
     "name": "stdout",
     "output_type": "stream",
     "text": [
      "Welcome to python session\n"
     ]
    }
   ],
   "source": [
    "s2 = \"Welcome to python session\"\n",
    "print(s2)"
   ]
  },
  {
   "attachments": {
    "d53685e7-2b8e-42dd-9c00-9fb671f32dc9.png": {
     "image/png": "[encoded data removed]"
    }
   },
   "cell_type": "markdown",
   "id": "c1eb44b9-c1ad-488d-ba49-0aaf19cc63a0",
   "metadata": {},
   "source": [
    "![image.png](attachment:d53685e7-2b8e-42dd-9c00-9fb671f32dc9.png)"
   ]
  },
  {
   "cell_type": "code",
   "execution_count": 20,
   "id": "8c10ac9c-7207-4f28-a322-81540522ffed",
   "metadata": {},
   "outputs": [
    {
     "data": {
      "text/plain": [
       "'Hello world'"
      ]
     },
     "execution_count": 20,
     "metadata": {},
     "output_type": "execute_result"
    }
   ],
   "source": [
    "s1"
   ]
  },
  {
   "cell_type": "code",
   "execution_count": 22,
   "id": "fe028ae1-6651-4234-863c-d768625f1d86",
   "metadata": {},
   "outputs": [
    {
     "data": {
      "text/plain": [
       "'H'"
      ]
     },
     "execution_count": 22,
     "metadata": {},
     "output_type": "execute_result"
    }
   ],
   "source": [
    "# string_name[index_number]\n",
    "s1[0]"
   ]
  },
  {
   "cell_type": "code",
   "execution_count": 24,
   "id": "1d8658ad-6903-408e-b3a2-1123c06a42e9",
   "metadata": {},
   "outputs": [
    {
     "data": {
      "text/plain": [
       "'w'"
      ]
     },
     "execution_count": 24,
     "metadata": {},
     "output_type": "execute_result"
    }
   ],
   "source": [
    "s1[6]"
   ]
  },
  {
   "cell_type": "code",
   "execution_count": 26,
   "id": "48fa1aa6-ef8c-4e8f-ac9e-1501e70fca96",
   "metadata": {},
   "outputs": [
    {
     "data": {
      "text/plain": [
       "'d'"
      ]
     },
     "execution_count": 26,
     "metadata": {},
     "output_type": "execute_result"
    }
   ],
   "source": [
    "s1[-1]"
   ]
  },
  {
   "cell_type": "markdown",
   "id": "1d3938f6-10eb-4693-8be6-2401f2437850",
   "metadata": {},
   "source": [
    "##### Slicing"
   ]
  },
  {
   "cell_type": "code",
   "execution_count": 29,
   "id": "e2f6365d-32c3-497e-8112-66bd9474e12b",
   "metadata": {},
   "outputs": [
    {
     "data": {
      "text/plain": [
       "'Hello world'"
      ]
     },
     "execution_count": 29,
     "metadata": {},
     "output_type": "execute_result"
    }
   ],
   "source": [
    "s1"
   ]
  },
  {
   "cell_type": "code",
   "execution_count": 31,
   "id": "a2f34550-8295-4045-90e9-3a52249dc5be",
   "metadata": {},
   "outputs": [
    {
     "data": {
      "text/plain": [
       "'Hello'"
      ]
     },
     "execution_count": 31,
     "metadata": {},
     "output_type": "execute_result"
    }
   ],
   "source": [
    "# str_name[start : end-1]\n",
    "s1[0:5]"
   ]
  },
  {
   "cell_type": "code",
   "execution_count": 36,
   "id": "8b5cb68f-cbd3-4058-82d9-4b9e38652f1f",
   "metadata": {},
   "outputs": [
    {
     "data": {
      "text/plain": [
       "'world'"
      ]
     },
     "execution_count": 36,
     "metadata": {},
     "output_type": "execute_result"
    }
   ],
   "source": [
    "s1[6:11]"
   ]
  },
  {
   "cell_type": "code",
   "execution_count": 47,
   "id": "744a592d-59c8-4cc5-97d6-1d826341656c",
   "metadata": {},
   "outputs": [
    {
     "data": {
      "text/plain": [
       "'Hello '"
      ]
     },
     "execution_count": 47,
     "metadata": {},
     "output_type": "execute_result"
    }
   ],
   "source": [
    "s1[:6]  # by default slicing is started at 0 index"
   ]
  },
  {
   "cell_type": "code",
   "execution_count": 49,
   "id": "0e51fedc-276d-4ff0-872f-cfec25d611a8",
   "metadata": {},
   "outputs": [
    {
     "data": {
      "text/plain": [
       "'Hello world'"
      ]
     },
     "execution_count": 49,
     "metadata": {},
     "output_type": "execute_result"
    }
   ],
   "source": [
    "s1[0:] #by default slicing will end at last index"
   ]
  },
  {
   "cell_type": "code",
   "execution_count": 51,
   "id": "30009d8d-e6b7-42ed-89c8-641c22b0134f",
   "metadata": {},
   "outputs": [
    {
     "data": {
      "text/plain": [
       "'Hello world'"
      ]
     },
     "execution_count": 51,
     "metadata": {},
     "output_type": "execute_result"
    }
   ],
   "source": [
    "s1[:] # start 0 position , end at last index value"
   ]
  },
  {
   "cell_type": "code",
   "execution_count": 53,
   "id": "349e58ef-6206-45fa-b96f-f5b85395c047",
   "metadata": {},
   "outputs": [
    {
     "data": {
      "text/plain": [
       "'Hello world'"
      ]
     },
     "execution_count": 53,
     "metadata": {},
     "output_type": "execute_result"
    }
   ],
   "source": [
    "# [start, end , step]\n",
    "s1[::1] "
   ]
  },
  {
   "cell_type": "code",
   "execution_count": 55,
   "id": "932b94c6-c988-4488-a6ef-3fb5c093e1ee",
   "metadata": {},
   "outputs": [
    {
     "data": {
      "text/plain": [
       "'dlrow olleH'"
      ]
     },
     "execution_count": 55,
     "metadata": {},
     "output_type": "execute_result"
    }
   ],
   "source": [
    "s1[::-1] # reverse a string using slicing"
   ]
  },
  {
   "cell_type": "code",
   "execution_count": 61,
   "id": "3db55f27-72df-4e8b-918a-adada60e07a0",
   "metadata": {},
   "outputs": [
    {
     "data": {
      "text/plain": [
       "'Hlowrd'"
      ]
     },
     "execution_count": 61,
     "metadata": {},
     "output_type": "execute_result"
    }
   ],
   "source": [
    "s1[0:11:2]"
   ]
  },
  {
   "cell_type": "code",
   "execution_count": 59,
   "id": "b7ad7c7a-5a40-4096-b41b-19521762a785",
   "metadata": {},
   "outputs": [
    {
     "data": {
      "text/plain": [
       "'drwolH'"
      ]
     },
     "execution_count": 59,
     "metadata": {},
     "output_type": "execute_result"
    }
   ],
   "source": [
    "s1[::-2]"
   ]
  },
  {
   "cell_type": "markdown",
   "id": "3cbcc105-33aa-411f-948e-f8269ee10482",
   "metadata": {},
   "source": [
    "##### Strings are immutable\n",
    "\n",
    "- we cannot add, delete or update the strings once created"
   ]
  },
  {
   "cell_type": "code",
   "execution_count": 67,
   "id": "597c6cc5-67f8-43f8-a2ed-8783d7ef3729",
   "metadata": {},
   "outputs": [
    {
     "data": {
      "text/plain": [
       "'Welcome to python session'"
      ]
     },
     "execution_count": 67,
     "metadata": {},
     "output_type": "execute_result"
    }
   ],
   "source": [
    "s2"
   ]
  },
  {
   "cell_type": "code",
   "execution_count": 71,
   "id": "1d051b20-7952-4f40-90a9-6ca5c832542c",
   "metadata": {},
   "outputs": [
    {
     "ename": "TypeError",
     "evalue": "'str' object does not support item assignment",
     "output_type": "error",
     "traceback": [
      "\u001b[1;31m---------------------------------------------------------------------------\u001b[0m",
      "\u001b[1;31mTypeError\u001b[0m                                 Traceback (most recent call last)",
      "Cell \u001b[1;32mIn[71], line 1\u001b[0m\n\u001b[1;32m----> 1\u001b[0m s2[\u001b[38;5;241m0\u001b[39m] \u001b[38;5;241m=\u001b[39m \u001b[38;5;124m'\u001b[39m\u001b[38;5;124mZ\u001b[39m\u001b[38;5;124m'\u001b[39m\n",
      "\u001b[1;31mTypeError\u001b[0m: 'str' object does not support item assignment"
     ]
    }
   ],
   "source": [
    "s2[0] = 'Z'"
   ]
  },
  {
   "cell_type": "code",
   "execution_count": 75,
   "id": "0a88f454-c28a-4e9f-ac7d-328a7a372687",
   "metadata": {},
   "outputs": [],
   "source": [
    "## replace\n",
    "s2 = s2.replace('session','class')"
   ]
  },
  {
   "cell_type": "code",
   "execution_count": 77,
   "id": "a6c5e3e5-e78d-4f83-8ccf-2d4819f50524",
   "metadata": {},
   "outputs": [
    {
     "data": {
      "text/plain": [
       "'Welcome to python class'"
      ]
     },
     "execution_count": 77,
     "metadata": {},
     "output_type": "execute_result"
    }
   ],
   "source": [
    "s2"
   ]
  },
  {
   "cell_type": "code",
   "execution_count": 79,
   "id": "541e275b-4988-4562-9021-dd802357c3de",
   "metadata": {},
   "outputs": [],
   "source": [
    "# we cannot delete certain characters from the string\n",
    "# but we can delete the entire structure\n",
    "del s2"
   ]
  },
  {
   "cell_type": "code",
   "execution_count": 81,
   "id": "40589435-977b-4946-86e1-67bffcd6da6f",
   "metadata": {},
   "outputs": [
    {
     "ename": "NameError",
     "evalue": "name 's2' is not defined",
     "output_type": "error",
     "traceback": [
      "\u001b[1;31m---------------------------------------------------------------------------\u001b[0m",
      "\u001b[1;31mNameError\u001b[0m                                 Traceback (most recent call last)",
      "Cell \u001b[1;32mIn[81], line 1\u001b[0m\n\u001b[1;32m----> 1\u001b[0m s2\n",
      "\u001b[1;31mNameError\u001b[0m: name 's2' is not defined"
     ]
    }
   ],
   "source": [
    "s2"
   ]
  },
  {
   "cell_type": "markdown",
   "id": "8dccf153-5811-45bf-9d86-ffd933168789",
   "metadata": {},
   "source": [
    "#### Concatenation"
   ]
  },
  {
   "cell_type": "code",
   "execution_count": 88,
   "id": "454aa06c-4f14-4206-9dd6-b962ae37b504",
   "metadata": {},
   "outputs": [],
   "source": [
    "s2 = 'Hi.'"
   ]
  },
  {
   "cell_type": "code",
   "execution_count": 86,
   "id": "73e2ab9e-84a7-4c2f-a4a8-e21d128ac416",
   "metadata": {},
   "outputs": [],
   "source": [
    "s3 = 'Welcome to python class'"
   ]
  },
  {
   "cell_type": "code",
   "execution_count": 90,
   "id": "c5dd11af-012f-4a9e-a55c-56df4cd31f81",
   "metadata": {},
   "outputs": [
    {
     "data": {
      "text/plain": [
       "'Hi.Welcome to python class'"
      ]
     },
     "execution_count": 90,
     "metadata": {},
     "output_type": "execute_result"
    }
   ],
   "source": [
    "s2 + s3"
   ]
  },
  {
   "cell_type": "code",
   "execution_count": 94,
   "id": "fd7d93e8-229a-41b3-8f91-39c5e5c68cd5",
   "metadata": {},
   "outputs": [
    {
     "name": "stdout",
     "output_type": "stream",
     "text": [
      "Hi. Welcome to python class\n"
     ]
    }
   ],
   "source": [
    "print(s2 + ' ' + s3)"
   ]
  },
  {
   "cell_type": "code",
   "execution_count": 134,
   "id": "e80e53d1-ef59-4816-b0dd-b8a2b01e8306",
   "metadata": {},
   "outputs": [
    {
     "data": {
      "text/plain": [
       "'Hi. Welcome to python class'"
      ]
     },
     "execution_count": 134,
     "metadata": {},
     "output_type": "execute_result"
    }
   ],
   "source": [
    "s6 = s2 + \" \" + s3\n",
    "s6"
   ]
  },
  {
   "cell_type": "markdown",
   "id": "bc62fb6d-a3df-4225-9bf1-e530ba5bb7fd",
   "metadata": {},
   "source": [
    "##### String functions"
   ]
  },
  {
   "cell_type": "code",
   "execution_count": 101,
   "id": "3ee37923-904e-4ef0-afb1-6fac603d4674",
   "metadata": {},
   "outputs": [
    {
     "data": {
      "text/plain": [
       "'Hello world'"
      ]
     },
     "execution_count": 101,
     "metadata": {},
     "output_type": "execute_result"
    }
   ],
   "source": [
    "s1"
   ]
  },
  {
   "cell_type": "code",
   "execution_count": 103,
   "id": "2dff77a1-f895-419a-875a-7a008ad2bb93",
   "metadata": {},
   "outputs": [
    {
     "data": {
      "text/plain": [
       "'hello world'"
      ]
     },
     "execution_count": 103,
     "metadata": {},
     "output_type": "execute_result"
    }
   ],
   "source": [
    "s1.lower()"
   ]
  },
  {
   "cell_type": "code",
   "execution_count": 105,
   "id": "35e17e97-c9a7-4f9b-ad94-461b157f1df0",
   "metadata": {},
   "outputs": [
    {
     "data": {
      "text/plain": [
       "'HELLO WORLD'"
      ]
     },
     "execution_count": 105,
     "metadata": {},
     "output_type": "execute_result"
    }
   ],
   "source": [
    "s1.upper()"
   ]
  },
  {
   "cell_type": "code",
   "execution_count": 107,
   "id": "b215c716-a69f-4bb3-9049-6f7ec58c3ebd",
   "metadata": {},
   "outputs": [
    {
     "data": {
      "text/plain": [
       "True"
      ]
     },
     "execution_count": 107,
     "metadata": {},
     "output_type": "execute_result"
    }
   ],
   "source": [
    "s1.startswith('H')"
   ]
  },
  {
   "cell_type": "code",
   "execution_count": 109,
   "id": "c67ad067-b74a-4391-9f7f-b32d98d4c346",
   "metadata": {},
   "outputs": [
    {
     "data": {
      "text/plain": [
       "True"
      ]
     },
     "execution_count": 109,
     "metadata": {},
     "output_type": "execute_result"
    }
   ],
   "source": [
    "s1.endswith('d')"
   ]
  },
  {
   "cell_type": "code",
   "execution_count": 119,
   "id": "d1f2006c-131e-45c0-bd14-6021bf40d592",
   "metadata": {},
   "outputs": [
    {
     "data": {
      "text/plain": [
       "'Hello'"
      ]
     },
     "execution_count": 119,
     "metadata": {},
     "output_type": "execute_result"
    }
   ],
   "source": [
    "# strip ---> remove the whitespaces from the string\n",
    "s4 = '         Hello         '\n",
    "s4.strip()"
   ]
  },
  {
   "cell_type": "code",
   "execution_count": 121,
   "id": "fe724b81-a07b-43d2-b8bd-3953c6f860f2",
   "metadata": {},
   "outputs": [
    {
     "data": {
      "text/plain": [
       "'Hello         '"
      ]
     },
     "execution_count": 121,
     "metadata": {},
     "output_type": "execute_result"
    }
   ],
   "source": [
    "# lstrip ---> remove the space at the start / left side\n",
    "s4.lstrip()"
   ]
  },
  {
   "cell_type": "code",
   "execution_count": 123,
   "id": "bc87b050-c028-4a56-bb2b-6a836f949cb7",
   "metadata": {},
   "outputs": [
    {
     "data": {
      "text/plain": [
       "'         Hello'"
      ]
     },
     "execution_count": 123,
     "metadata": {},
     "output_type": "execute_result"
    }
   ],
   "source": [
    "# rstrip ---> remove the space at the ebd / right side\n",
    "s4.rstrip()"
   ]
  },
  {
   "cell_type": "code",
   "execution_count": 127,
   "id": "b2ea19e4-08a4-4dff-8825-c1ef02df82d3",
   "metadata": {},
   "outputs": [
    {
     "data": {
      "text/plain": [
       "'Lakshmi'"
      ]
     },
     "execution_count": 127,
     "metadata": {},
     "output_type": "execute_result"
    }
   ],
   "source": [
    "s.capitalize()"
   ]
  },
  {
   "cell_type": "code",
   "execution_count": 142,
   "id": "3da849e2-4d8f-45c6-bfb8-2f3327daf459",
   "metadata": {},
   "outputs": [
    {
     "data": {
      "text/plain": [
       "'Hi. Welcome to python class. It is a new concept'"
      ]
     },
     "execution_count": 142,
     "metadata": {},
     "output_type": "execute_result"
    }
   ],
   "source": [
    "s7 = s6 + '. It is a new concept'\n",
    "s7"
   ]
  },
  {
   "cell_type": "code",
   "execution_count": 144,
   "id": "13a6f788-1a78-4339-beab-d25f925373e8",
   "metadata": {},
   "outputs": [
    {
     "data": {
      "text/plain": [
       "['Hi.', 'Welcome', 'to', 'python', 'class.', 'It', 'is', 'a', 'new', 'concept']"
      ]
     },
     "execution_count": 144,
     "metadata": {},
     "output_type": "execute_result"
    }
   ],
   "source": [
    "s7.split()"
   ]
  },
  {
   "cell_type": "code",
   "execution_count": 146,
   "id": "5706ddc6-cdb0-42d0-a1e0-34b183c8a54a",
   "metadata": {},
   "outputs": [
    {
     "data": {
      "text/plain": [
       "['Hi', ' Welcome to python class', ' It is a new concept']"
      ]
     },
     "execution_count": 146,
     "metadata": {},
     "output_type": "execute_result"
    }
   ],
   "source": [
    "s7.split('.')"
   ]
  },
  {
   "cell_type": "code",
   "execution_count": 150,
   "id": "86cc7db0-097f-44f7-8106-059acbbef458",
   "metadata": {},
   "outputs": [
    {
     "data": {
      "text/plain": [
       "('Hi', '.', ' Welcome to python class. It is a new concept')"
      ]
     },
     "execution_count": 150,
     "metadata": {},
     "output_type": "execute_result"
    }
   ],
   "source": [
    "s7.partition('.')"
   ]
  },
  {
   "cell_type": "markdown",
   "id": "4094ea6a-7434-49cf-bc8b-5f7b3e3c5f9a",
   "metadata": {},
   "source": [
    "##### String Membership "
   ]
  },
  {
   "cell_type": "code",
   "execution_count": 153,
   "id": "3cfd6f66-92d4-4d2e-8908-12b95d373277",
   "metadata": {},
   "outputs": [],
   "source": [
    "# in\n",
    "# not in\n",
    "# check whther the value is a part of the ds \n",
    "# o/p will be boolean value "
   ]
  },
  {
   "cell_type": "code",
   "execution_count": 155,
   "id": "bd91f53d-fb01-4928-beea-4235e7e77aec",
   "metadata": {},
   "outputs": [
    {
     "data": {
      "text/plain": [
       "'Hello world'"
      ]
     },
     "execution_count": 155,
     "metadata": {},
     "output_type": "execute_result"
    }
   ],
   "source": [
    "s1"
   ]
  },
  {
   "cell_type": "code",
   "execution_count": 157,
   "id": "61c64b2d-59ea-4283-ab05-f07f695d444a",
   "metadata": {},
   "outputs": [
    {
     "data": {
      "text/plain": [
       "True"
      ]
     },
     "execution_count": 157,
     "metadata": {},
     "output_type": "execute_result"
    }
   ],
   "source": [
    "'H' in s1"
   ]
  },
  {
   "cell_type": "code",
   "execution_count": 159,
   "id": "7fdc3e47-510d-4442-ad64-9f9c92399b5c",
   "metadata": {},
   "outputs": [
    {
     "data": {
      "text/plain": [
       "False"
      ]
     },
     "execution_count": 159,
     "metadata": {},
     "output_type": "execute_result"
    }
   ],
   "source": [
    "'h' in s1"
   ]
  },
  {
   "cell_type": "code",
   "execution_count": 161,
   "id": "50d81489-1a58-407e-ab1b-ec93873c36f9",
   "metadata": {},
   "outputs": [
    {
     "data": {
      "text/plain": [
       "False"
      ]
     },
     "execution_count": 161,
     "metadata": {},
     "output_type": "execute_result"
    }
   ],
   "source": [
    "'H' not in s1"
   ]
  },
  {
   "cell_type": "code",
   "execution_count": 163,
   "id": "987e25b8-b328-443a-9aaa-e75a0e88b50b",
   "metadata": {},
   "outputs": [
    {
     "data": {
      "text/plain": [
       "int"
      ]
     },
     "execution_count": 163,
     "metadata": {},
     "output_type": "execute_result"
    }
   ],
   "source": [
    "a = 10\n",
    "type(a)"
   ]
  },
  {
   "cell_type": "code",
   "execution_count": 165,
   "id": "fe5541fd-fece-45e8-84c6-60fe0d2f3240",
   "metadata": {},
   "outputs": [
    {
     "data": {
      "text/plain": [
       "10.0"
      ]
     },
     "execution_count": 165,
     "metadata": {},
     "output_type": "execute_result"
    }
   ],
   "source": [
    "float(a)"
   ]
  },
  {
   "cell_type": "code",
   "execution_count": 167,
   "id": "19101e35-f16d-4f6a-b564-e8cc07abeda0",
   "metadata": {},
   "outputs": [
    {
     "data": {
      "text/plain": [
       "'10'"
      ]
     },
     "execution_count": 167,
     "metadata": {},
     "output_type": "execute_result"
    }
   ],
   "source": [
    "str(a)"
   ]
  },
  {
   "attachments": {
    "427b6bb4-6723-4771-a36d-e223032a6099.png": {
     "image/png": "[encoded data removed]"
    }
   },
   "cell_type": "markdown",
   "id": "a2477c76-a2f9-4f49-8248-d7e3f00cae36",
   "metadata": {},
   "source": [
    "![image.png](attachment:427b6bb4-6723-4771-a36d-e223032a6099.png)"
   ]
  },
  {
   "attachments": {
    "3353f147-f668-4a16-8620-c7c34d9b09d7.png": {
     "image/png": "[encoded data removed]"
    }
   },
   "cell_type": "markdown",
   "id": "eab34f48-cd13-4408-9f15-b6bb24cba089",
   "metadata": {},
   "source": [
    "![image.png](attachment:3353f147-f668-4a16-8620-c7c34d9b09d7.png)/"
   ]
  },
  {
   "attachments": {
    "9c495361-5232-4c42-bca3-e6e316006262.png": {
     "image/png": "[encoded data removed]"
    }
   },
   "cell_type": "markdown",
   "id": "09cbcee3-5257-4948-8fc7-455e48c7e61a",
   "metadata": {},
   "source": [
    "![image.png](attachment:9c495361-5232-4c42-bca3-e6e316006262.png)"
   ]
  },
  {
   "cell_type": "markdown",
   "id": "bda54a0a-e4e4-401f-802a-4ca660719e9f",
   "metadata": {},
   "source": [
    "##### Atrithmetic"
   ]
  },
  {
   "cell_type": "code",
   "execution_count": 178,
   "id": "bf525be2-0cea-4fff-bf99-26950e4cc2f0",
   "metadata": {},
   "outputs": [
    {
     "name": "stdin",
     "output_type": "stream",
     "text": [
      " 10\n",
      " 10\n"
     ]
    },
    {
     "name": "stdout",
     "output_type": "stream",
     "text": [
      "20\n",
      "0\n",
      "100\n",
      "1.0\n",
      "1\n",
      "0\n",
      "10000000000\n"
     ]
    }
   ],
   "source": [
    "a = int(input())\n",
    "b = int(input())\n",
    "print(a+b)\n",
    "print(a-b)\n",
    "print(a*b)\n",
    "print(a/b) # float number \n",
    "print(a//b) # floor division , int \n",
    "print(a%b) #reminder is the answer\n",
    "print(a**b)"
   ]
  },
  {
   "cell_type": "markdown",
   "id": "e6df2254-8ce3-4879-a409-4a2c726faf52",
   "metadata": {},
   "source": [
    "##### Comparision op"
   ]
  },
  {
   "cell_type": "code",
   "execution_count": 183,
   "id": "b33193c8-f229-42f6-9710-b4779aecfb3a",
   "metadata": {},
   "outputs": [
    {
     "name": "stdout",
     "output_type": "stream",
     "text": [
      "True\n",
      "False\n",
      "False\n",
      "True\n",
      "True\n",
      "False\n"
     ]
    }
   ],
   "source": [
    "a = 10 \n",
    "b = 10\n",
    "print(a==b)\n",
    "print(a<b)\n",
    "print(a>b)\n",
    "print(a<=b)\n",
    "print(a>=b)\n",
    "print(a!=b)"
   ]
  },
  {
   "cell_type": "markdown",
   "id": "622d7968-16c7-464d-ae6a-49957163fb4b",
   "metadata": {},
   "source": [
    "##### Logical op"
   ]
  },
  {
   "cell_type": "code",
   "execution_count": 186,
   "id": "e1621958-16fd-42ca-a7c5-d99f2c43ac56",
   "metadata": {},
   "outputs": [
    {
     "data": {
      "text/plain": [
       "True"
      ]
     },
     "execution_count": 186,
     "metadata": {},
     "output_type": "execute_result"
    }
   ],
   "source": [
    "a = True\n",
    "b = True\n",
    "c = False\n",
    "a and b "
   ]
  },
  {
   "cell_type": "code",
   "execution_count": 188,
   "id": "b23bc28e-b675-4a0a-b5ec-7cb46b5063c3",
   "metadata": {},
   "outputs": [
    {
     "data": {
      "text/plain": [
       "True"
      ]
     },
     "execution_count": 188,
     "metadata": {},
     "output_type": "execute_result"
    }
   ],
   "source": [
    "a or c"
   ]
  },
  {
   "cell_type": "code",
   "execution_count": 190,
   "id": "92c3ebef-1ee9-4c62-a72e-26c8adba6202",
   "metadata": {},
   "outputs": [
    {
     "data": {
      "text/plain": [
       "False"
      ]
     },
     "execution_count": 190,
     "metadata": {},
     "output_type": "execute_result"
    }
   ],
   "source": [
    "not a"
   ]
  },
  {
   "attachments": {
    "55c074a9-7c1c-423b-bd5d-9062adf3b15c.png": {
     "image/png": "[encoded data removed]"
    }
   },
   "cell_type": "markdown",
   "id": "92f07cae-2e85-4b11-9588-116b245d90a7",
   "metadata": {},
   "source": [
    "![image.png](attachment:55c074a9-7c1c-423b-bd5d-9062adf3b15c.png)"
   ]
  },
  {
   "cell_type": "code",
   "execution_count": 201,
   "id": "633c9c7f-91b8-481b-bb0e-78df225049b8",
   "metadata": {},
   "outputs": [],
   "source": [
    "a = 5 \n",
    "if a > 8 : # 5 > 8 False\n",
    "    print(a,'is greater than 8')"
   ]
  },
  {
   "cell_type": "code",
   "execution_count": 205,
   "id": "b0411a40-f5af-4c4c-bae7-1485557fa079",
   "metadata": {},
   "outputs": [
    {
     "name": "stdout",
     "output_type": "stream",
     "text": [
      "8 is greater than 5\n"
     ]
    }
   ],
   "source": [
    "a = 8\n",
    "if a > 5 :\n",
    "    print(a,'is greater than 5')"
   ]
  },
  {
   "cell_type": "code",
   "execution_count": 209,
   "id": "ce00daf8-8f53-43e8-a1be-d886e15eb3bf",
   "metadata": {},
   "outputs": [
    {
     "name": "stdin",
     "output_type": "stream",
     "text": [
      " 1\n"
     ]
    },
    {
     "name": "stdout",
     "output_type": "stream",
     "text": [
      "Lesser\n"
     ]
    }
   ],
   "source": [
    "a = int(input())\n",
    "if a>5:\n",
    "    print('Greater')\n",
    "else:\n",
    "    print('Lesser')"
   ]
  },
  {
   "cell_type": "code",
   "execution_count": 213,
   "id": "932489af-1612-4321-92b0-dcc9518e3d01",
   "metadata": {},
   "outputs": [
    {
     "name": "stdin",
     "output_type": "stream",
     "text": [
      " 10\n",
      " 20\n"
     ]
    },
    {
     "name": "stdout",
     "output_type": "stream",
     "text": [
      "10 and 20 are not equal\n"
     ]
    }
   ],
   "source": [
    "# equality of numbers\n",
    "a = int(input())\n",
    "b = int(input())\n",
    "if a == b :\n",
    "    print(a ,'and',b ,'are equal')\n",
    "else:\n",
    "    print(a ,'and',b ,'are not equal')"
   ]
  },
  {
   "cell_type": "code",
   "execution_count": 228,
   "id": "fd10f8d3-8782-43fc-8335-b5ff6136e893",
   "metadata": {},
   "outputs": [
    {
     "name": "stdin",
     "output_type": "stream",
     "text": [
      " 9\n"
     ]
    },
    {
     "name": "stdout",
     "output_type": "stream",
     "text": [
      "9 is a odd number\n"
     ]
    }
   ],
   "source": [
    "# odd and even\n",
    "# n % 2 \n",
    "# n % 2 == 0 -> even\n",
    "n = int(input())\n",
    "if n % 2 == 0:\n",
    "    print(n,'is a even number')\n",
    "else :\n",
    "    print(n,'is a odd number')"
   ]
  },
  {
   "cell_type": "code",
   "execution_count": 238,
   "id": "cd75b14f-d781-47c4-ac6c-599b515bee13",
   "metadata": {},
   "outputs": [
    {
     "name": "stdin",
     "output_type": "stream",
     "text": [
      " P\n"
     ]
    },
    {
     "name": "stdout",
     "output_type": "stream",
     "text": [
      "Python\n"
     ]
    }
   ],
   "source": [
    "# write a program , should intake a character\n",
    "# 1. if char == P -> o/p Python\n",
    "# 2. if char == D -> o/p Data Science \n",
    "ch = input()\n",
    "if ch == 'p' or ch =='P':\n",
    "    print('Python')\n",
    "elif ch == 'd' or ch=='D':\n",
    "    print('Data Science')\n",
    "else:\n",
    "    print('enter a correct character')"
   ]
  },
  {
   "cell_type": "code",
   "execution_count": 244,
   "id": "ec9726f1-8e60-4683-91b8-a5e840517ded",
   "metadata": {},
   "outputs": [
    {
     "name": "stdin",
     "output_type": "stream",
     "text": [
      " p\n"
     ]
    },
    {
     "name": "stdout",
     "output_type": "stream",
     "text": [
      "p is python\n"
     ]
    }
   ],
   "source": [
    "char=input()\n",
    "if char== 'p':\n",
    "    print(char, \"is python\")\n",
    "elif char == 'd':\n",
    "    print(char, \"is data science\")\n",
    "else:\n",
    "    print(char, \"is not known\")\n"
   ]
  },
  {
   "cell_type": "code",
   "execution_count": 258,
   "id": "c3afaf0e-da35-4421-bcf5-e7400affb671",
   "metadata": {},
   "outputs": [
    {
     "name": "stdin",
     "output_type": "stream",
     "text": [
      " 10\n"
     ]
    },
    {
     "name": "stdout",
     "output_type": "stream",
     "text": [
      "10.0 is a positive number\n"
     ]
    }
   ],
   "source": [
    "# negative , positive  or zero\n",
    "a=float(input())\n",
    "if a < 0:\n",
    "    print (a, \"is a negative number\")\n",
    "elif a > 0:\n",
    "    print (a, \"is a positive number\")\n",
    "else:\n",
    "    print (a, \"is zero\")\n"
   ]
  },
  {
   "cell_type": "code",
   "execution_count": 260,
   "id": "ce0561ac-a7b9-4e58-abb7-e6f4ca5cf946",
   "metadata": {},
   "outputs": [],
   "source": [
    "# write a program , which will take 2 input\n",
    "# 1. gender\n",
    "# 2. age\n",
    "# and check whether they are eligible to get married or not"
   ]
  },
  {
   "cell_type": "code",
   "execution_count": 264,
   "id": "73f60c19-c930-4a25-88c1-913e12a06ac2",
   "metadata": {},
   "outputs": [
    {
     "name": "stdin",
     "output_type": "stream",
     "text": [
      "Enter the gender as Male and Female Male\n",
      "Enter the age 22\n"
     ]
    },
    {
     "name": "stdout",
     "output_type": "stream",
     "text": [
      "eligible\n"
     ]
    }
   ],
   "source": [
    "gen = input('Enter the gender as Male and Female')\n",
    "age = int(input('Enter the age'))\n",
    "\n",
    "if (age > 21) and (gen == 'Male'):\n",
    "    print('eligible')\n",
    "elif age >18 and gen == 'Female':\n",
    "    print('eligible')\n",
    "else:\n",
    "    print('Enter the valid credentials')\n",
    "    \n",
    "            "
   ]
  },
  {
   "cell_type": "code",
   "execution_count": null,
   "id": "b637d777-93f9-4c65-a5d4-18daf4363d18",
   "metadata": {},
   "outputs": [],
   "source": [
    "gender = str(input('enter your gender'))\n",
    "age= int(input('enter your age'))\n",
    "if age > 18 and gender =='M' or gender == 'm':\n",
    "    print('yes go ahead')\n",
    "elif age < 18:\n",
    "    print('sorry have to wait')"
   ]
  },
  {
   "cell_type": "code",
   "execution_count": null,
   "id": "be1f8cf9-dd76-4fe2-a2d5-4a0e9601bed4",
   "metadata": {},
   "outputs": [],
   "source": [
    "# intake a string\n",
    "# check whether the string is in capital letter or not\n",
    "# true -> capital letters\n",
    "# flase -> not in capital letters "
   ]
  },
  {
   "cell_type": "code",
   "execution_count": 273,
   "id": "13152193-34c1-455d-8b1b-9932a17b090c",
   "metadata": {},
   "outputs": [
    {
     "name": "stdin",
     "output_type": "stream",
     "text": [
      "Enter a string:  LAKHSMI\n"
     ]
    },
    {
     "name": "stdout",
     "output_type": "stream",
     "text": [
      "True -> The string is in capital letters.\n"
     ]
    }
   ],
   "source": [
    "input_string = input(\"Enter a string: \")\n",
    "if input_string == input_string.upper() :\n",
    "    print(\"True -> The string is in capital letters.\")\n",
    "else:\n",
    "    print(\"False -> The string is not in capital letters.\")\n",
    "\n"
   ]
  },
  {
   "cell_type": "code",
   "execution_count": 277,
   "id": "a9606a41-ee1e-4c9d-99b9-f045aecc9fa0",
   "metadata": {},
   "outputs": [
    {
     "name": "stdin",
     "output_type": "stream",
     "text": [
      "Enter the letter LAKSHMI\n"
     ]
    },
    {
     "name": "stdout",
     "output_type": "stream",
     "text": [
      "its capital letter\n"
     ]
    }
   ],
   "source": [
    "ch =str(input('Enter the letter'))\n",
    "if ch.isupper() == True:\n",
    "    print (\"its capital letter\")\n",
    "else:\n",
    "    print (\"its not capital letter\")"
   ]
  },
  {
   "attachments": {
    "30f0becf-f960-4639-8d96-6a2dd59fa591.png": {
     "image/png": "[encoded data removed]"
    }
   },
   "cell_type": "markdown",
   "id": "c37dc3fe-05b0-4cec-b8c8-58fca10f0615",
   "metadata": {},
   "source": [
    "![image.png](attachment:30f0becf-f960-4639-8d96-6a2dd59fa591.png)"
   ]
  },
  {
   "cell_type": "code",
   "execution_count": 288,
   "id": "58d6c592-1c1c-4f93-b305-18b9ca2182fb",
   "metadata": {},
   "outputs": [
    {
     "name": "stdin",
     "output_type": "stream",
     "text": [
      " -1\n"
     ]
    },
    {
     "name": "stdout",
     "output_type": "stream",
     "text": [
      "9\n"
     ]
    }
   ],
   "source": [
    "n = int(input())\n",
    "if n > 0 :\n",
    "    if n > 5:\n",
    "        print(n+10)\n",
    "    else:\n",
    "        print(n)\n",
    "elif n < 0 :\n",
    "    if n > -2 :\n",
    "        print(n+10)\n",
    "    else:\n",
    "        print(n)\n",
    "else:\n",
    "    print(n,'is zero')\n",
    "    \n",
    "    "
   ]
  },
  {
   "cell_type": "markdown",
   "id": "56197ef4-b4da-493e-8c9c-f0cb4fe8f2d8",
   "metadata": {},
   "source": [
    "#### Data Structure\n",
    "\n",
    "- which stores multiple values in a single variable by giving a structure to it"
   ]
  },
  {
   "cell_type": "markdown",
   "id": "3de1fa5b-cf5c-4337-9e4b-38a183c89d64",
   "metadata": {},
   "source": [
    "1. List\n",
    "2. Tuple\n",
    "3. Dictionary\n",
    "4. Sets"
   ]
  },
  {
   "cell_type": "markdown",
   "id": "4efa9f17-7f14-49b4-a874-fe7d598a514b",
   "metadata": {},
   "source": [
    "#### List\n",
    "\n",
    "- is a DS , which stores multiple values in a single variable\n",
    "- can store both homogeneous and heterogenous values\n",
    "- ordered , indexed , duplicates\n",
    "- LISTS ARE MUTABLE (add , delete and update)\n",
    "- Syntax : var_name = [ ]"
   ]
  },
  {
   "cell_type": "code",
   "execution_count": 295,
   "id": "e35fa95b-50d4-418e-99f1-87c56989b075",
   "metadata": {},
   "outputs": [
    {
     "name": "stdout",
     "output_type": "stream",
     "text": [
      "[]\n"
     ]
    }
   ],
   "source": [
    "l = []\n",
    "print(l)"
   ]
  },
  {
   "cell_type": "code",
   "execution_count": 297,
   "id": "ee17502b-e615-4efa-8b28-fe06621a6aa9",
   "metadata": {},
   "outputs": [
    {
     "data": {
      "text/plain": [
       "[]"
      ]
     },
     "execution_count": 297,
     "metadata": {},
     "output_type": "execute_result"
    }
   ],
   "source": [
    "#list method \n",
    "l1 = list([])\n",
    "l1"
   ]
  },
  {
   "cell_type": "code",
   "execution_count": 299,
   "id": "1a3cfe63-a561-4490-a77a-a87c370fa4f1",
   "metadata": {},
   "outputs": [
    {
     "data": {
      "text/plain": [
       "list"
      ]
     },
     "execution_count": 299,
     "metadata": {},
     "output_type": "execute_result"
    }
   ],
   "source": [
    "type(l)"
   ]
  },
  {
   "cell_type": "code",
   "execution_count": 309,
   "id": "96132091-cd4a-481c-9fd6-ee0fe10aabc7",
   "metadata": {},
   "outputs": [
    {
     "data": {
      "text/plain": [
       "[1, 2, 3, 4, 5, 6]"
      ]
     },
     "execution_count": 309,
     "metadata": {},
     "output_type": "execute_result"
    }
   ],
   "source": [
    "# integer list\n",
    "l2 = [1,2,3,4,5,6]\n",
    "l2"
   ]
  },
  {
   "cell_type": "code",
   "execution_count": 319,
   "id": "aee2caa3-48b6-4528-b742-74d02faaeef8",
   "metadata": {},
   "outputs": [
    {
     "data": {
      "text/plain": [
       "[1.0, 2.0, 3.0, 5.5]"
      ]
     },
     "execution_count": 319,
     "metadata": {},
     "output_type": "execute_result"
    }
   ],
   "source": [
    "# float\n",
    "l3 = [1.0,2.0,3.0,5.5]\n",
    "l3"
   ]
  },
  {
   "cell_type": "code",
   "execution_count": 317,
   "id": "2b49694d-e3f2-4d40-9a32-9f16940d8a5c",
   "metadata": {},
   "outputs": [
    {
     "data": {
      "text/plain": [
       "['name', 'age', 'gender']"
      ]
     },
     "execution_count": 317,
     "metadata": {},
     "output_type": "execute_result"
    }
   ],
   "source": [
    "# str\n",
    "l4 = ['name', 'age', 'gender']\n",
    "l4"
   ]
  },
  {
   "cell_type": "code",
   "execution_count": 321,
   "id": "b6fea8df-98f9-4871-a80f-7f87d63844f3",
   "metadata": {},
   "outputs": [
    {
     "data": {
      "text/plain": [
       "[1, 1.0, 'Python', True]"
      ]
     },
     "execution_count": 321,
     "metadata": {},
     "output_type": "execute_result"
    }
   ],
   "source": [
    "# heterogenous \n",
    "l5 = [1,1.0,'Python',True]\n",
    "l5"
   ]
  },
  {
   "cell_type": "code",
   "execution_count": 323,
   "id": "693bfd1f-904b-4b1e-80e4-89198af84cd4",
   "metadata": {},
   "outputs": [
    {
     "data": {
      "text/plain": [
       "[10, 20, [30, 40], 'Python']"
      ]
     },
     "execution_count": 323,
     "metadata": {},
     "output_type": "execute_result"
    }
   ],
   "source": [
    "# nested list\n",
    "l6 = [10,20,[30,40],'Python']\n",
    "l6"
   ]
  },
  {
   "cell_type": "code",
   "execution_count": 327,
   "id": "7ff2d26e-7216-4903-a012-5dae3bceb521",
   "metadata": {},
   "outputs": [
    {
     "data": {
      "text/plain": [
       "4"
      ]
     },
     "execution_count": 327,
     "metadata": {},
     "output_type": "execute_result"
    }
   ],
   "source": [
    "len(l6)"
   ]
  },
  {
   "cell_type": "markdown",
   "id": "e9d5d502-3b62-4df3-80b9-135971bfb67a",
   "metadata": {},
   "source": [
    "##### Indexing and slicing"
   ]
  },
  {
   "cell_type": "code",
   "execution_count": 330,
   "id": "7fd24974-7676-44a1-b9e4-b0616fa4c18a",
   "metadata": {},
   "outputs": [
    {
     "data": {
      "text/plain": [
       "[10, 20, [30, 40], 'Python']"
      ]
     },
     "execution_count": 330,
     "metadata": {},
     "output_type": "execute_result"
    }
   ],
   "source": [
    "l6"
   ]
  },
  {
   "cell_type": "code",
   "execution_count": 334,
   "id": "1f9c7de0-e9df-4fb3-806d-9451c9753255",
   "metadata": {},
   "outputs": [
    {
     "data": {
      "text/plain": [
       "30"
      ]
     },
     "execution_count": 334,
     "metadata": {},
     "output_type": "execute_result"
    }
   ],
   "source": [
    "l6[2][0]"
   ]
  },
  {
   "cell_type": "code",
   "execution_count": 336,
   "id": "73a77e75-a61a-44ab-84d6-f98d5a1d2db8",
   "metadata": {},
   "outputs": [
    {
     "data": {
      "text/plain": [
       "'Python'"
      ]
     },
     "execution_count": 336,
     "metadata": {},
     "output_type": "execute_result"
    }
   ],
   "source": [
    "l6[-1]"
   ]
  },
  {
   "cell_type": "code",
   "execution_count": 338,
   "id": "0dfa7c0d-102d-4804-99d0-5f5b8610061c",
   "metadata": {},
   "outputs": [
    {
     "data": {
      "text/plain": [
       "[]"
      ]
     },
     "execution_count": 338,
     "metadata": {},
     "output_type": "execute_result"
    }
   ],
   "source": [
    "l6[0:-4]"
   ]
  },
  {
   "cell_type": "markdown",
   "id": "b83509f7-e424-463d-999e-5651ac7ed5c9",
   "metadata": {},
   "source": [
    "#### Lists are mutable\n",
    "- add, delete and update the elements "
   ]
  },
  {
   "cell_type": "markdown",
   "id": "af2901db-b62f-4a42-a024-c88321d3d2dd",
   "metadata": {},
   "source": [
    "###### ADD \n",
    "1. append\n",
    "2. insert\n",
    "3. extend"
   ]
  },
  {
   "cell_type": "code",
   "execution_count": 4,
   "id": "1ee576d1-5d78-4afb-9392-f751e087f498",
   "metadata": {},
   "outputs": [],
   "source": [
    "l = [1,2,3,4,5]"
   ]
  },
  {
   "cell_type": "code",
   "execution_count": 6,
   "id": "57e63e18-a9b5-4043-92a6-cb87a14f3ab7",
   "metadata": {},
   "outputs": [
    {
     "data": {
      "text/plain": [
       "[1, 2, 3, 4, 5, 6]"
      ]
     },
     "execution_count": 6,
     "metadata": {},
     "output_type": "execute_result"
    }
   ],
   "source": [
    "#list_name.append(new_element)\n",
    "l.append(6)\n",
    "l"
   ]
  },
  {
   "cell_type": "code",
   "execution_count": 8,
   "id": "e2621f85-6ba7-4901-8301-704745b3744b",
   "metadata": {},
   "outputs": [],
   "source": [
    "# insert will add the elemnet at the specified index value\n",
    "# l.insert(index , value)\n",
    "l.insert(1,10)"
   ]
  },
  {
   "cell_type": "code",
   "execution_count": 10,
   "id": "f0896518-4d48-4959-a2b7-3d28ebaeb93a",
   "metadata": {},
   "outputs": [
    {
     "data": {
      "text/plain": [
       "[1, 10, 2, 3, 4, 5, 6]"
      ]
     },
     "execution_count": 10,
     "metadata": {},
     "output_type": "execute_result"
    }
   ],
   "source": [
    "l"
   ]
  },
  {
   "cell_type": "code",
   "execution_count": 12,
   "id": "c284f921-fc17-4dba-8780-adcad69f4a83",
   "metadata": {},
   "outputs": [
    {
     "data": {
      "text/plain": [
       "[1, 10, 2, 3, 4, 5, 6]"
      ]
     },
     "execution_count": 12,
     "metadata": {},
     "output_type": "execute_result"
    }
   ],
   "source": [
    "# will help in joining 2 lists\n",
    "# will help in adding / appending multiple values at once\n",
    "l"
   ]
  },
  {
   "cell_type": "code",
   "execution_count": 14,
   "id": "b8a4f624-188d-4637-8f40-368115b9758e",
   "metadata": {},
   "outputs": [
    {
     "data": {
      "text/plain": [
       "[1, 10, 2, 3, 4, 5, 6, 7, 8, 9, 10]"
      ]
     },
     "execution_count": 14,
     "metadata": {},
     "output_type": "execute_result"
    }
   ],
   "source": [
    "l.extend([7,8,9,10])\n",
    "l"
   ]
  },
  {
   "cell_type": "code",
   "execution_count": 16,
   "id": "64bb6647-a430-41cb-8b07-dedd75c6df2b",
   "metadata": {},
   "outputs": [],
   "source": [
    "l2 = [11,12]"
   ]
  },
  {
   "cell_type": "code",
   "execution_count": 18,
   "id": "6185dd8b-0340-4dec-aa69-77154c98187e",
   "metadata": {},
   "outputs": [
    {
     "data": {
      "text/plain": [
       "[1, 10, 2, 3, 4, 5, 6, 7, 8, 9, 10, 11, 12]"
      ]
     },
     "execution_count": 18,
     "metadata": {},
     "output_type": "execute_result"
    }
   ],
   "source": [
    "l.extend(l2)\n",
    "l"
   ]
  },
  {
   "cell_type": "markdown",
   "id": "09036e79-5d13-4e26-91ff-21655210b991",
   "metadata": {},
   "source": [
    "#####  Remove\n",
    "1. pop\n",
    "2. pop(index_value)\n",
    "3. remove"
   ]
  },
  {
   "cell_type": "code",
   "execution_count": 28,
   "id": "47173a37-5696-4bde-a3f3-e423717ecc42",
   "metadata": {},
   "outputs": [
    {
     "data": {
      "text/plain": [
       "[1, 10, 2, 3, 4, 5, 6, 7, 8, 9, 10, 11, 12]"
      ]
     },
     "execution_count": 28,
     "metadata": {},
     "output_type": "execute_result"
    }
   ],
   "source": [
    "l"
   ]
  },
  {
   "cell_type": "code",
   "execution_count": 30,
   "id": "3f1ad40a-9749-4fad-aa9f-c0328cf11ab8",
   "metadata": {},
   "outputs": [
    {
     "data": {
      "text/plain": [
       "12"
      ]
     },
     "execution_count": 30,
     "metadata": {},
     "output_type": "execute_result"
    }
   ],
   "source": [
    "# by defualt pop will remove last element from the list\n",
    "l.pop()"
   ]
  },
  {
   "cell_type": "code",
   "execution_count": 32,
   "id": "ef8f5b82-0d6d-4195-8cb6-e68e6e9f1afa",
   "metadata": {},
   "outputs": [
    {
     "data": {
      "text/plain": [
       "[1, 10, 2, 3, 4, 5, 6, 7, 8, 9, 10, 11]"
      ]
     },
     "execution_count": 32,
     "metadata": {},
     "output_type": "execute_result"
    }
   ],
   "source": [
    "l"
   ]
  },
  {
   "cell_type": "code",
   "execution_count": 34,
   "id": "e0505cac-389e-4bc4-9351-fd2603274598",
   "metadata": {},
   "outputs": [
    {
     "data": {
      "text/plain": [
       "10"
      ]
     },
     "execution_count": 34,
     "metadata": {},
     "output_type": "execute_result"
    }
   ],
   "source": [
    "l.pop(1)"
   ]
  },
  {
   "cell_type": "code",
   "execution_count": 36,
   "id": "be15bd49-a149-4c9c-bb02-781f64f3ceb8",
   "metadata": {},
   "outputs": [
    {
     "data": {
      "text/plain": [
       "[1, 2, 3, 4, 5, 6, 7, 8, 9, 10, 11]"
      ]
     },
     "execution_count": 36,
     "metadata": {},
     "output_type": "execute_result"
    }
   ],
   "source": [
    "l"
   ]
  },
  {
   "cell_type": "code",
   "execution_count": 38,
   "id": "d3a422f1-cbb5-4c48-b9bb-7372cc587a83",
   "metadata": {},
   "outputs": [],
   "source": [
    "# remove(value)\n",
    "l.remove(11)"
   ]
  },
  {
   "cell_type": "code",
   "execution_count": 40,
   "id": "e13bc68e-e77a-4657-a7c7-78b5e17a74de",
   "metadata": {},
   "outputs": [
    {
     "data": {
      "text/plain": [
       "[1, 2, 3, 4, 5, 6, 7, 8, 9, 10]"
      ]
     },
     "execution_count": 40,
     "metadata": {},
     "output_type": "execute_result"
    }
   ],
   "source": [
    "l"
   ]
  },
  {
   "cell_type": "code",
   "execution_count": 46,
   "id": "e4154795-07b1-48f7-9950-4c72a747b4ed",
   "metadata": {},
   "outputs": [
    {
     "data": {
      "text/plain": [
       "[10, 2, 3, 4, 5, 6, 7, 8, 9, 10]"
      ]
     },
     "execution_count": 46,
     "metadata": {},
     "output_type": "execute_result"
    }
   ],
   "source": [
    "# update the values\n",
    "l[0] = 10\n",
    "l"
   ]
  },
  {
   "cell_type": "code",
   "execution_count": 52,
   "id": "9332ba66-2526-48d1-b425-368216cc2e48",
   "metadata": {},
   "outputs": [
    {
     "data": {
      "text/plain": [
       "[10, 20, 30, 40, 50, 60, 70, 80, 90, 100]"
      ]
     },
     "execution_count": 52,
     "metadata": {},
     "output_type": "execute_result"
    }
   ],
   "source": [
    "l[1:10] = [20,30,40,50,60,70,80,90,100]\n",
    "l"
   ]
  },
  {
   "cell_type": "markdown",
   "id": "eaa84352-e54e-46b5-a9f7-228486a5e74c",
   "metadata": {},
   "source": [
    "##### List concatenation"
   ]
  },
  {
   "cell_type": "code",
   "execution_count": 55,
   "id": "f764c879-f7d7-43cd-85c4-64cbb59b9898",
   "metadata": {},
   "outputs": [],
   "source": [
    "a = [1,2]\n",
    "b = [3,4]"
   ]
  },
  {
   "cell_type": "code",
   "execution_count": 59,
   "id": "3eba604d-dd41-4e63-b1e2-3ac0ce69fa85",
   "metadata": {},
   "outputs": [
    {
     "data": {
      "text/plain": [
       "[1, 2, 3, 4, 3, 4]"
      ]
     },
     "execution_count": 59,
     "metadata": {},
     "output_type": "execute_result"
    }
   ],
   "source": [
    "a.extend(b)\n",
    "a"
   ]
  },
  {
   "cell_type": "code",
   "execution_count": 61,
   "id": "62f1ae3b-797d-4a8e-a684-f67d8444d77d",
   "metadata": {},
   "outputs": [
    {
     "data": {
      "text/plain": [
       "[1, 2, 3, 4, 3, 4, 3, 4]"
      ]
     },
     "execution_count": 61,
     "metadata": {},
     "output_type": "execute_result"
    }
   ],
   "source": [
    "a + b "
   ]
  },
  {
   "cell_type": "markdown",
   "id": "3faaf76a-f707-4c97-a789-112d0c306c6e",
   "metadata": {},
   "source": [
    "##### List membership\n",
    "- in\n",
    "- not in"
   ]
  },
  {
   "cell_type": "code",
   "execution_count": 64,
   "id": "facf2858-6db8-4e9b-b7d5-2552a76be367",
   "metadata": {},
   "outputs": [
    {
     "data": {
      "text/plain": [
       "[10, 20, 30, 40, 50, 60, 70, 80, 90, 100]"
      ]
     },
     "execution_count": 64,
     "metadata": {},
     "output_type": "execute_result"
    }
   ],
   "source": [
    "l"
   ]
  },
  {
   "cell_type": "code",
   "execution_count": 66,
   "id": "00545437-9fda-4dc2-af0f-93eb9c715d8d",
   "metadata": {},
   "outputs": [
    {
     "data": {
      "text/plain": [
       "True"
      ]
     },
     "execution_count": 66,
     "metadata": {},
     "output_type": "execute_result"
    }
   ],
   "source": [
    "10 in l "
   ]
  },
  {
   "cell_type": "code",
   "execution_count": 68,
   "id": "861c00a3-ebab-446e-a9d4-0b112ad1c4cc",
   "metadata": {},
   "outputs": [
    {
     "data": {
      "text/plain": [
       "True"
      ]
     },
     "execution_count": 68,
     "metadata": {},
     "output_type": "execute_result"
    }
   ],
   "source": [
    "200 not in l "
   ]
  },
  {
   "cell_type": "markdown",
   "id": "492281e4-44b1-4ab1-9dcf-4a2820d63a83",
   "metadata": {},
   "source": [
    "#### all and any"
   ]
  },
  {
   "cell_type": "code",
   "execution_count": 73,
   "id": "0367cc24-4999-48e8-a519-f243a4dd7175",
   "metadata": {},
   "outputs": [],
   "source": [
    "# all - will return true , if all the elements in the ds is true\n",
    "c = [1,2,'Python']"
   ]
  },
  {
   "cell_type": "code",
   "execution_count": 75,
   "id": "c13f7821-f05d-4dc1-a567-851bdced225b",
   "metadata": {},
   "outputs": [
    {
     "data": {
      "text/plain": [
       "True"
      ]
     },
     "execution_count": 75,
     "metadata": {},
     "output_type": "execute_result"
    }
   ],
   "source": [
    "all(c)"
   ]
  },
  {
   "cell_type": "code",
   "execution_count": 77,
   "id": "80b1622e-0e01-4c93-86b6-098930bc6caf",
   "metadata": {},
   "outputs": [
    {
     "data": {
      "text/plain": [
       "False"
      ]
     },
     "execution_count": 77,
     "metadata": {},
     "output_type": "execute_result"
    }
   ],
   "source": [
    "d = [1,0]\n",
    "all(d)"
   ]
  },
  {
   "cell_type": "code",
   "execution_count": 79,
   "id": "607eb303-54ae-4a61-80cb-1bcdfa77ec02",
   "metadata": {},
   "outputs": [
    {
     "data": {
      "text/plain": [
       "True"
      ]
     },
     "execution_count": 79,
     "metadata": {},
     "output_type": "execute_result"
    }
   ],
   "source": [
    "# any - will return true , atleast 1 true elemnt in te ds\n",
    "any(d)"
   ]
  },
  {
   "cell_type": "code",
   "execution_count": 81,
   "id": "0ed2a72e-653b-45fd-ace7-187cb7fb51ba",
   "metadata": {},
   "outputs": [
    {
     "data": {
      "text/plain": [
       "True"
      ]
     },
     "execution_count": 81,
     "metadata": {},
     "output_type": "execute_result"
    }
   ],
   "source": [
    "d=[1 ,'False']\n",
    "all(d)"
   ]
  },
  {
   "cell_type": "markdown",
   "id": "252fd7e6-fdfd-4a82-a355-4a895f3c1104",
   "metadata": {},
   "source": [
    "##### Reverse and sort the list"
   ]
  },
  {
   "cell_type": "code",
   "execution_count": 87,
   "id": "40af5521-a96c-4511-92dc-259d24fb39eb",
   "metadata": {},
   "outputs": [
    {
     "data": {
      "text/plain": [
       "[10, 9, 1, 2, 6, 7, 8]"
      ]
     },
     "execution_count": 87,
     "metadata": {},
     "output_type": "execute_result"
    }
   ],
   "source": [
    "a1 = [10,9,1,2,6,7,8]\n",
    "a1"
   ]
  },
  {
   "cell_type": "code",
   "execution_count": 91,
   "id": "5a65c555-81ba-49fa-b014-b25d4ec44a4e",
   "metadata": {},
   "outputs": [
    {
     "data": {
      "text/plain": [
       "[8, 7, 6, 2, 1, 9, 10]"
      ]
     },
     "execution_count": 91,
     "metadata": {},
     "output_type": "execute_result"
    }
   ],
   "source": [
    "a1[::-1]"
   ]
  },
  {
   "cell_type": "code",
   "execution_count": 95,
   "id": "b7f39cdc-70ec-4886-b1c1-d9796624e603",
   "metadata": {},
   "outputs": [
    {
     "data": {
      "text/plain": [
       "[10, 9, 1, 2, 6, 7, 8]"
      ]
     },
     "execution_count": 95,
     "metadata": {},
     "output_type": "execute_result"
    }
   ],
   "source": [
    "a1.reverse()\n",
    "a1"
   ]
  },
  {
   "cell_type": "code",
   "execution_count": 99,
   "id": "a2d8962c-7421-4ba8-8c31-55d59e821f88",
   "metadata": {},
   "outputs": [
    {
     "data": {
      "text/plain": [
       "[1, 2, 6, 7, 8, 9, 10]"
      ]
     },
     "execution_count": 99,
     "metadata": {},
     "output_type": "execute_result"
    }
   ],
   "source": [
    "# sort\n",
    "# by default sorting is happening in ascending\n",
    "a1.sort()\n",
    "a1"
   ]
  },
  {
   "cell_type": "code",
   "execution_count": 101,
   "id": "8dcee07d-8e27-463b-88c4-94cb075e74d3",
   "metadata": {},
   "outputs": [
    {
     "data": {
      "text/plain": [
       "[10, 9, 8, 7, 6, 2, 1]"
      ]
     },
     "execution_count": 101,
     "metadata": {},
     "output_type": "execute_result"
    }
   ],
   "source": [
    "a1.sort(reverse = True)\n",
    "a1"
   ]
  },
  {
   "cell_type": "markdown",
   "id": "7d641f8d-fb44-4981-ae2a-c2dacfed6a54",
   "metadata": {},
   "source": [
    "### Tuple\n",
    "- Tuple are DS which stores multiples values in a single variable\n",
    "- can store both homogeneous and heterogenous values\n",
    "- ordered , indexed , duplicates\n",
    "- Tuples ARE IMMUTABLE (we cannot add , delete and update once a tuple is formed)\n",
    "- we can convert the tuple into a list and do the changes (but not advisible at all the scenarios)\n",
    "- Syntax : var_name = ()\n"
   ]
  },
  {
   "cell_type": "code",
   "execution_count": 111,
   "id": "62e7e9e1-ff3a-4c4f-b534-426e31aec2b2",
   "metadata": {},
   "outputs": [],
   "source": [
    "t = ()"
   ]
  },
  {
   "cell_type": "code",
   "execution_count": 113,
   "id": "d71dd48d-f18a-47ef-9f02-f422fe5341db",
   "metadata": {},
   "outputs": [
    {
     "data": {
      "text/plain": [
       "()"
      ]
     },
     "execution_count": 113,
     "metadata": {},
     "output_type": "execute_result"
    }
   ],
   "source": [
    "t = tuple()\n",
    "t"
   ]
  },
  {
   "cell_type": "code",
   "execution_count": 129,
   "id": "af33a637-d5e9-4fd1-aed2-c8a6cfe63c9a",
   "metadata": {},
   "outputs": [],
   "source": [
    "# integer tuple\n",
    "t2 = (1,2,3,4)"
   ]
  },
  {
   "cell_type": "code",
   "execution_count": 117,
   "id": "970c31b7-6011-4a4c-a8ce-7e6861670c24",
   "metadata": {},
   "outputs": [],
   "source": [
    "# float"
   ]
  },
  {
   "cell_type": "code",
   "execution_count": 119,
   "id": "41b53142-51af-4b3d-ba27-e014e1c71082",
   "metadata": {},
   "outputs": [],
   "source": [
    "# string"
   ]
  },
  {
   "cell_type": "code",
   "execution_count": 131,
   "id": "88b005f1-db1b-4092-8205-8ef193f515a6",
   "metadata": {},
   "outputs": [
    {
     "data": {
      "text/plain": [
       "(1, 2, (2, 4), [1, 2, 3])"
      ]
     },
     "execution_count": 131,
     "metadata": {},
     "output_type": "execute_result"
    }
   ],
   "source": [
    "# hetero\n",
    "t1 = (1,1.0,'Python')\n",
    "t"
   ]
  },
  {
   "cell_type": "code",
   "execution_count": 123,
   "id": "52ac2cb5-4075-44d7-96b9-8d9df3497de5",
   "metadata": {},
   "outputs": [
    {
     "data": {
      "text/plain": [
       "(1, 2, (2, 4), [1, 2, 3])"
      ]
     },
     "execution_count": 123,
     "metadata": {},
     "output_type": "execute_result"
    }
   ],
   "source": [
    "#nested tuple\n",
    "t = (1,2,(2,4),[1,2,3])\n",
    "t"
   ]
  },
  {
   "cell_type": "markdown",
   "id": "0414efb9-968d-4d6f-a108-b6cf1cdf48bd",
   "metadata": {},
   "source": [
    "##### Indexing and slicing\n",
    "\n",
    "Task"
   ]
  },
  {
   "cell_type": "markdown",
   "id": "f19fb576-1b23-47e4-a2bd-753c8682da54",
   "metadata": {},
   "source": [
    "##### Tuples are immutable\n",
    "- WE can delete the entire structre from memory\n",
    "- we can convert the tuple into list and make the necessary changes"
   ]
  },
  {
   "cell_type": "code",
   "execution_count": 127,
   "id": "8380e90d-bd00-46bf-8aa1-49f0608e3f5b",
   "metadata": {},
   "outputs": [
    {
     "data": {
      "text/plain": [
       "(1, 2, (2, 4), [1, 2, 3])"
      ]
     },
     "execution_count": 127,
     "metadata": {},
     "output_type": "execute_result"
    }
   ],
   "source": [
    "t"
   ]
  },
  {
   "cell_type": "code",
   "execution_count": 133,
   "id": "0b11d38a-ea2a-4e0e-bd8c-6a55abff9ff2",
   "metadata": {},
   "outputs": [],
   "source": [
    "del t"
   ]
  },
  {
   "cell_type": "code",
   "execution_count": 135,
   "id": "6dd39a7d-09c0-4093-8a09-f7b8a89960fd",
   "metadata": {},
   "outputs": [
    {
     "ename": "NameError",
     "evalue": "name 't' is not defined",
     "output_type": "error",
     "traceback": [
      "\u001b[1;31m---------------------------------------------------------------------------\u001b[0m",
      "\u001b[1;31mNameError\u001b[0m                                 Traceback (most recent call last)",
      "Cell \u001b[1;32mIn[135], line 1\u001b[0m\n\u001b[1;32m----> 1\u001b[0m t\n",
      "\u001b[1;31mNameError\u001b[0m: name 't' is not defined"
     ]
    }
   ],
   "source": [
    "t"
   ]
  },
  {
   "cell_type": "code",
   "execution_count": 139,
   "id": "19ce0af8-58e1-470e-add8-7a392fc17041",
   "metadata": {},
   "outputs": [
    {
     "data": {
      "text/plain": [
       "(1, 2, 3, 4)"
      ]
     },
     "execution_count": 139,
     "metadata": {},
     "output_type": "execute_result"
    }
   ],
   "source": [
    "t2"
   ]
  },
  {
   "cell_type": "code",
   "execution_count": 141,
   "id": "b1137e41-d7dc-4c06-882b-bb05ecbe33ad",
   "metadata": {},
   "outputs": [
    {
     "data": {
      "text/plain": [
       "[1, 2, 3, 4]"
      ]
     },
     "execution_count": 141,
     "metadata": {},
     "output_type": "execute_result"
    }
   ],
   "source": [
    "tuple_l = list(t2)\n",
    "tuple_l"
   ]
  },
  {
   "cell_type": "code",
   "execution_count": 143,
   "id": "09660ae4-7563-42b2-9d95-12f43979c387",
   "metadata": {},
   "outputs": [],
   "source": [
    "tuple_l.append(5)"
   ]
  },
  {
   "cell_type": "code",
   "execution_count": 145,
   "id": "2ec32557-27d3-4eaa-a9e9-bf6195c3137c",
   "metadata": {},
   "outputs": [
    {
     "data": {
      "text/plain": [
       "[1, 2, 3, 4, 5]"
      ]
     },
     "execution_count": 145,
     "metadata": {},
     "output_type": "execute_result"
    }
   ],
   "source": [
    "tuple_l"
   ]
  },
  {
   "cell_type": "markdown",
   "id": "1667cfb3-f407-4093-ac0d-8dbb7f509388",
   "metadata": {},
   "source": [
    "##### Tuple memebership"
   ]
  },
  {
   "cell_type": "code",
   "execution_count": 154,
   "id": "a0f06025-074b-4aea-b8d4-267229b72a3d",
   "metadata": {},
   "outputs": [
    {
     "data": {
      "text/plain": [
       "[1, 2, 3, 4, 5]"
      ]
     },
     "execution_count": 154,
     "metadata": {},
     "output_type": "execute_result"
    }
   ],
   "source": [
    "tuple_l"
   ]
  },
  {
   "cell_type": "code",
   "execution_count": 158,
   "id": "45f67073-0fd5-45c6-bf1b-ddc2e2c6b8fa",
   "metadata": {},
   "outputs": [
    {
     "data": {
      "text/plain": [
       "True"
      ]
     },
     "execution_count": 158,
     "metadata": {},
     "output_type": "execute_result"
    }
   ],
   "source": [
    "1 in tuple_l"
   ]
  },
  {
   "cell_type": "markdown",
   "id": "58dea8ab-8ab1-42d6-9d8a-8c99f4eef431",
   "metadata": {},
   "source": [
    "##### Sorted"
   ]
  },
  {
   "cell_type": "code",
   "execution_count": 162,
   "id": "b07289c4-fdb1-40e8-9611-739c998c299c",
   "metadata": {},
   "outputs": [
    {
     "data": {
      "text/plain": [
       "(1, 2, 0, 10, 5, 20)"
      ]
     },
     "execution_count": 162,
     "metadata": {},
     "output_type": "execute_result"
    }
   ],
   "source": [
    "t = (1,2,0,10,5,20)\n",
    "t"
   ]
  },
  {
   "cell_type": "code",
   "execution_count": 164,
   "id": "49469aa4-0c24-437b-9790-a753f848263d",
   "metadata": {},
   "outputs": [
    {
     "data": {
      "text/plain": [
       "[0, 1, 2, 5, 10, 20]"
      ]
     },
     "execution_count": 164,
     "metadata": {},
     "output_type": "execute_result"
    }
   ],
   "source": [
    "sorted(t)"
   ]
  },
  {
   "cell_type": "code",
   "execution_count": 166,
   "id": "2ee7600e-2ed5-4db5-b3ca-a7ad18a0f522",
   "metadata": {},
   "outputs": [
    {
     "data": {
      "text/plain": [
       "[20, 10, 5, 2, 1, 0]"
      ]
     },
     "execution_count": 166,
     "metadata": {},
     "output_type": "execute_result"
    }
   ],
   "source": [
    "sorted(t, reverse=True)"
   ]
  },
  {
   "cell_type": "code",
   "execution_count": 174,
   "id": "de0298f5-8a0c-4022-8a9c-ae56288d42f8",
   "metadata": {},
   "outputs": [],
   "source": [
    "l = [1, 20, (2, 4), [1, 2, 3], 30, 40]\n",
    "l.remove((2,4))"
   ]
  },
  {
   "cell_type": "code",
   "execution_count": 176,
   "id": "cbb58bd4-7dd4-4883-8402-5d8bd19f440d",
   "metadata": {},
   "outputs": [
    {
     "data": {
      "text/plain": [
       "[1, 20, [1, 2, 3], 30, 40]"
      ]
     },
     "execution_count": 176,
     "metadata": {},
     "output_type": "execute_result"
    }
   ],
   "source": [
    "l"
   ]
  },
  {
   "cell_type": "markdown",
   "id": "2a011174-e40f-469f-bfb7-9804468e7e0f",
   "metadata": {},
   "source": [
    "#### Sets\n",
    "\n",
    "- are DS which stores multiple values in a single var\n",
    "- it can store both homo and hetero\n",
    "- SETS ARE UNORDERED\n",
    "- SETS ARE UNINDEXED\n",
    "- SETS DO NOT ALLOW DUPLICATES\n",
    "- SETS ARE MUTABLE\n",
    "- Syntax : var_name = { values } "
   ]
  },
  {
   "cell_type": "code",
   "execution_count": 179,
   "id": "3b80844d-92b7-4fba-9e21-30927d7c9713",
   "metadata": {},
   "outputs": [
    {
     "data": {
      "text/plain": [
       "{1, 2, 3}"
      ]
     },
     "execution_count": 179,
     "metadata": {},
     "output_type": "execute_result"
    }
   ],
   "source": [
    "s = {1,2,3}\n",
    "s"
   ]
  },
  {
   "cell_type": "code",
   "execution_count": 181,
   "id": "5f2d920c-e2b4-46f2-885e-212fee6fce76",
   "metadata": {},
   "outputs": [
    {
     "data": {
      "text/plain": [
       "set"
      ]
     },
     "execution_count": 181,
     "metadata": {},
     "output_type": "execute_result"
    }
   ],
   "source": [
    "type(s)"
   ]
  },
  {
   "cell_type": "code",
   "execution_count": 187,
   "id": "6096888d-8a9a-4dc2-bf4c-edbaca2a864d",
   "metadata": {},
   "outputs": [
    {
     "data": {
      "text/plain": [
       "{1, 2, 3}"
      ]
     },
     "execution_count": 187,
     "metadata": {},
     "output_type": "execute_result"
    }
   ],
   "source": [
    "s1 = set({1,2,3})\n",
    "s1"
   ]
  },
  {
   "cell_type": "code",
   "execution_count": 189,
   "id": "f424d908-8b0b-45a0-9fd5-c2401a08957a",
   "metadata": {},
   "outputs": [
    {
     "data": {
      "text/plain": [
       "set"
      ]
     },
     "execution_count": 189,
     "metadata": {},
     "output_type": "execute_result"
    }
   ],
   "source": [
    "type(s1)"
   ]
  },
  {
   "cell_type": "code",
   "execution_count": 191,
   "id": "b11656b6-6da3-439f-b4d1-f0ab415bf1c1",
   "metadata": {},
   "outputs": [
    {
     "data": {
      "text/plain": [
       "{1, 2, 3, 4}"
      ]
     },
     "execution_count": 191,
     "metadata": {},
     "output_type": "execute_result"
    }
   ],
   "source": [
    "s2 = {1,1,2,3,4}\n",
    "s2 # It will automatically removes the duplicate values\n"
   ]
  },
  {
   "cell_type": "code",
   "execution_count": 194,
   "id": "df1b2c85-8284-4b5f-b267-9550c6b6e90d",
   "metadata": {},
   "outputs": [
    {
     "data": {
      "text/plain": [
       "{1, 2, 3}"
      ]
     },
     "execution_count": 194,
     "metadata": {},
     "output_type": "execute_result"
    }
   ],
   "source": [
    "s3 = {1,2,3}\n",
    "s3.add(True)\n",
    "s3\n",
    "# boolean True == 1\n",
    "# boolean False == 0"
   ]
  },
  {
   "cell_type": "code",
   "execution_count": 196,
   "id": "9ef02b63-4935-4d4e-8960-0295cd346582",
   "metadata": {},
   "outputs": [
    {
     "data": {
      "text/plain": [
       "{(1, 2, 3), 1, 'CDS'}"
      ]
     },
     "execution_count": 196,
     "metadata": {},
     "output_type": "execute_result"
    }
   ],
   "source": [
    "# hetero / nested \n",
    "# sets can store all dtype values along with immuatable DS\n",
    "s4 = {1,1.0,'CDS',(1,2,3)}\n",
    "s4"
   ]
  },
  {
   "cell_type": "markdown",
   "id": "5ff2812a-c6a5-400d-92ea-890bb137b15f",
   "metadata": {},
   "source": [
    "##### Set Membership\n",
    "\n",
    "Task"
   ]
  },
  {
   "cell_type": "markdown",
   "id": "badda753-8bc1-4b74-9cad-c7031c884fd7",
   "metadata": {},
   "source": [
    "##### Sets are mutable"
   ]
  },
  {
   "cell_type": "code",
   "execution_count": 200,
   "id": "d3e1ce7d-6ffa-4f95-945b-0f1fc1bce4cd",
   "metadata": {},
   "outputs": [
    {
     "data": {
      "text/plain": [
       "{1, 2, 3}"
      ]
     },
     "execution_count": 200,
     "metadata": {},
     "output_type": "execute_result"
    }
   ],
   "source": [
    "# add \n",
    "s1"
   ]
  },
  {
   "cell_type": "code",
   "execution_count": 202,
   "id": "524dedcf-dcff-4bde-a931-365112438dc0",
   "metadata": {},
   "outputs": [
    {
     "data": {
      "text/plain": [
       "{1, 2, 3, 'Lakshmi'}"
      ]
     },
     "execution_count": 202,
     "metadata": {},
     "output_type": "execute_result"
    }
   ],
   "source": [
    "s1.add('Lakshmi')\n",
    "s1"
   ]
  },
  {
   "cell_type": "code",
   "execution_count": 204,
   "id": "de7cc595-b861-4dba-9f70-a1afb563d318",
   "metadata": {},
   "outputs": [
    {
     "data": {
      "text/plain": [
       "{1, 2, 3, 'CDS', 'Lakshmi', 'Python'}"
      ]
     },
     "execution_count": 204,
     "metadata": {},
     "output_type": "execute_result"
    }
   ],
   "source": [
    "s1.update(['CDS','Python'])\n",
    "s1   # add multiple elements at once"
   ]
  },
  {
   "cell_type": "code",
   "execution_count": 208,
   "id": "ed1daddc-76a8-43d8-b92e-7d3ef81d24d0",
   "metadata": {},
   "outputs": [
    {
     "data": {
      "text/plain": [
       "{1, 2, 3, 'CDS', 'Deepika', 'Python'}"
      ]
     },
     "execution_count": 208,
     "metadata": {},
     "output_type": "execute_result"
    }
   ],
   "source": [
    "s1.update(['Deepika'])\n",
    "s1"
   ]
  },
  {
   "cell_type": "code",
   "execution_count": 206,
   "id": "6c378ec9-a7e2-48b6-a176-c9d3272e1c6c",
   "metadata": {},
   "outputs": [
    {
     "data": {
      "text/plain": [
       "{1, 2, 3, 'CDS', 'Python'}"
      ]
     },
     "execution_count": 206,
     "metadata": {},
     "output_type": "execute_result"
    }
   ],
   "source": [
    "# remove the elements from the sets\n",
    "s1.remove('Lakshmi')\n",
    "s1"
   ]
  },
  {
   "cell_type": "code",
   "execution_count": 210,
   "id": "2fbcf51d-3439-4d0d-8bf1-93a2eb950480",
   "metadata": {},
   "outputs": [
    {
     "data": {
      "text/plain": [
       "{1, 2, 3, 'CDS', 'Python'}"
      ]
     },
     "execution_count": 210,
     "metadata": {},
     "output_type": "execute_result"
    }
   ],
   "source": [
    "s1.discard('Deepika')\n",
    "s1"
   ]
  },
  {
   "cell_type": "code",
   "execution_count": 212,
   "id": "f38841e1-de4e-4903-a9fc-8905ddacfc8f",
   "metadata": {},
   "outputs": [],
   "source": [
    "s1.clear() # clear all the elements from the ds but the strc=ucture remains in the memory"
   ]
  },
  {
   "cell_type": "code",
   "execution_count": 214,
   "id": "66e073b6-95ac-42d3-b533-5cead6671c32",
   "metadata": {},
   "outputs": [
    {
     "data": {
      "text/plain": [
       "set()"
      ]
     },
     "execution_count": 214,
     "metadata": {},
     "output_type": "execute_result"
    }
   ],
   "source": [
    "s1"
   ]
  },
  {
   "cell_type": "code",
   "execution_count": 220,
   "id": "5e828229-e8a4-4ce1-aa51-29e982f869fc",
   "metadata": {},
   "outputs": [],
   "source": [
    "del s1 # delete the entire structure "
   ]
  },
  {
   "cell_type": "code",
   "execution_count": null,
   "id": "aeedea5c-d064-438e-a62b-1ae9685d9419",
   "metadata": {},
   "outputs": [],
   "source": []
  }
 ],
 "metadata": {
  "kernelspec": {
   "display_name": "Python 3 (ipykernel)",
   "language": "python",
   "name": "python3"
  },
  "language_info": {
   "codemirror_mode": {
    "name": "ipython",
    "version": 3
   },
   "file_extension": ".py",
   "mimetype": "text/x-python",
   "name": "python",
   "nbconvert_exporter": "python",
   "pygments_lexer": "ipython3",
   "version": "3.12.4"
  }
 },
 "nbformat": 4,
 "nbformat_minor": 5
}
